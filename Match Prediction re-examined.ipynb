{
 "cells": [
  {
   "cell_type": "markdown",
   "metadata": {},
   "source": [
    "What are we predicting?\n",
    "- Using historical data, we will predict match outcome 1x2\n",
    " Man u vs Arsenal (Man u will win) 1\n",
    "- Using historical data, we will predict total goals\n",
    "- Using historical data , we will predict the number of possible cards (yellow cards, red cards) and possible fouls\n",
    "\n",
    "Feature restrictions?\n",
    "- Since we are not doing live match predictions, our features must be restricted to features that are available before a game commences. This means that we cannot include features like:\n",
    "- Number corners\n",
    "- number of shots\n",
    "- fouls \n",
    "- possession\n",
    "\n",
    "since these features are only available after a match starts. Since bets are placed before matches commence, our model will need to rely on prematch data for predictions.\n",
    "\n",
    "Implication: Our current data is unlikely to useful for the type of objective we are working on.\n",
    "\n",
    "Features that are available before a match include:\n",
    "Team form \n",
    "- ft 1x2 odds\n",
    "- prematch ppg\n",
    "- prematch potential data\n",
    "- prematch xg\n"
   ]
  },
  {
   "cell_type": "markdown",
   "metadata": {},
   "source": [
    "Scenario:\n",
    "\n",
    "man u vs chelsea\n",
    "\n",
    "Model:\n",
    "Features\n",
    "- Number corners in the match\n",
    "- number of shots in the match\n",
    "- fouls in the match\n",
    "- possession in the match\n",
    "\n"
   ]
  },
  {
   "cell_type": "markdown",
   "metadata": {},
   "source": [
    "Model to predict house prices\n",
    "\n",
    "model is trained on the following features:\n",
    "\n",
    "1. square footage\n",
    "2. number of bedrooms\n",
    "3. number of bathrooms\n",
    "4. location\n",
    "\n",
    "Trained\n",
    "1. square footage\n",
    "2. number of bedrooms\n",
    "3. number of bathrooms\n",
    "4. location"
   ]
  },
  {
   "cell_type": "markdown",
   "metadata": {},
   "source": [
    "Model to predict match outcome\n",
    "\n",
    "model is trained on the following features:\n",
    "1. team_a, team_b possesions\n",
    "2. team_a_shots_on_target, team_b_shots_on_target \n",
    "3. corners_team_a, corners_team_b\n",
    "\n",
    "model prediction:\n",
    "1. team_a, team_b possesions\n",
    "2. team_a_shots_on_target, team_b_shots_on_target \n",
    "3. corners_team_a, corners_team_b\n",
    "\n",
    "man u vs chelsea \n"
   ]
  },
  {
   "cell_type": "code",
   "execution_count": null,
   "metadata": {},
   "outputs": [],
   "source": [
    "Model to predict match outcome\n",
    "\n"
   ]
  },
  {
   "cell_type": "code",
   "execution_count": 1,
   "metadata": {},
   "outputs": [],
   "source": [
    "# Import the necessary libraries\n",
    "import requests  # Library for making HTTP requests\n",
    "import pandas as pd  # Library for data manipulation and analysis\n"
   ]
  },
  {
   "cell_type": "code",
   "execution_count": 2,
   "metadata": {},
   "outputs": [],
   "source": [
    "# Define the API key variable to hold the access key for the Footystats API\n",
    "api_key = \"dc33d51f5d112e81607b27308e5b1eb0f891774ab3937106033f7f2e452c6a69\" "
   ]
  },
  {
   "cell_type": "code",
   "execution_count": 36,
   "metadata": {},
   "outputs": [],
   "source": [
    "# Define the URL for accessing the Football Data API's league list endpoint, including the API key\n",
    "url = f\"https://api.football-data-api.com/last6?key={api_key}&team_id=151\"\n",
    "\n",
    "# Make an HTTP GET request to the defined URL using the requests library\n",
    "response = requests.get(url)\n"
   ]
  },
  {
   "cell_type": "code",
   "execution_count": 37,
   "metadata": {},
   "outputs": [],
   "source": [
    "# Convert the response content to JSON format using the .json() method\n",
    "data = response.json()\n"
   ]
  },
  {
   "cell_type": "code",
   "execution_count": 38,
   "metadata": {},
   "outputs": [
    {
     "data": {
      "text/plain": [
       "dict_keys(['success', 'pager', 'metadata', 'data', 'message'])"
      ]
     },
     "execution_count": 38,
     "metadata": {},
     "output_type": "execute_result"
    }
   ],
   "source": [
    "# Retrieve the keys of the 'data' dictionary to inspect its structure\n",
    "data.keys()\n"
   ]
  },
  {
   "cell_type": "code",
   "execution_count": 39,
   "metadata": {},
   "outputs": [
    {
     "data": {
      "text/plain": [
       "list"
      ]
     },
     "execution_count": 39,
     "metadata": {},
     "output_type": "execute_result"
    }
   ],
   "source": [
    "type(data['data'])"
   ]
  },
  {
   "cell_type": "code",
   "execution_count": 40,
   "metadata": {},
   "outputs": [
    {
     "data": {
      "text/plain": [
       "[]"
      ]
     },
     "execution_count": 40,
     "metadata": {},
     "output_type": "execute_result"
    }
   ],
   "source": [
    "data['data']"
   ]
  },
  {
   "cell_type": "code",
   "execution_count": 7,
   "metadata": {},
   "outputs": [
    {
     "name": "stdout",
     "output_type": "stream",
     "text": [
      "['England', 'England', 'England', 'England', 'England']\n"
     ]
    }
   ],
   "source": [
    "# Extract the 'country' values from each dictionary in the 'data' list using list comprehension\n",
    "countries = [data.get('country') for data in data['data']]\n",
    "\n",
    "# Print the first 5 elements of the 'countries' list\n",
    "print(countries[:5])"
   ]
  },
  {
   "cell_type": "code",
   "execution_count": null,
   "metadata": {},
   "outputs": [],
   "source": []
  }
 ],
 "metadata": {
  "kernelspec": {
   "display_name": "Python (learn-env)",
   "language": "python",
   "name": "learn-env"
  },
  "language_info": {
   "codemirror_mode": {
    "name": "ipython",
    "version": 3
   },
   "file_extension": ".py",
   "mimetype": "text/x-python",
   "name": "python",
   "nbconvert_exporter": "python",
   "pygments_lexer": "ipython3",
   "version": "3.8.5"
  }
 },
 "nbformat": 4,
 "nbformat_minor": 4
}
