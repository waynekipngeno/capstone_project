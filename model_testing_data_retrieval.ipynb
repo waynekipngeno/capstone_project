{
 "cells": [
  {
   "cell_type": "code",
   "execution_count": 1,
   "metadata": {},
   "outputs": [],
   "source": [
    "import requests\n",
    "from bs4 import BeautifulSoup\n",
    "import re\n",
    "import json\n",
    "import codecs\n",
    "import pandas as pd\n",
    "from pandas import json_normalize\n",
    "import time  "
   ]
  },
  {
   "cell_type": "code",
   "execution_count": 2,
   "metadata": {},
   "outputs": [],
   "source": [
    "# define EPL seasons \n",
    "seasons = [2023]"
   ]
  },
  {
   "cell_type": "code",
   "execution_count": 3,
   "metadata": {},
   "outputs": [],
   "source": [
    "def get_season_html(season):\n",
    "    # Construct the URL based on the league (EPL) and season\n",
    "    url = f\"https://understat.com/league/EPL/{season}\"\n",
    "\n",
    "    # Send an HTTP GET request to the constructed URL\n",
    "    response = requests.get(url)\n",
    "\n",
    "    # Get the content of the response, which typically contains the HTML content of the web page\n",
    "    html_content = response.content\n",
    "\n",
    "    # Return the HTML content\n",
    "    return html_content\n"
   ]
  },
  {
   "cell_type": "code",
   "execution_count": 4,
   "metadata": {},
   "outputs": [],
   "source": [
    "def parse_html_content(html_content):\n",
    "    # Parse HTML content using BeautifulSoup\n",
    "    soup = BeautifulSoup(html_content, 'html.parser')\n",
    "\n",
    "    # Find all script tags in the HTML\n",
    "    scripts = soup.find_all('script')\n",
    "\n",
    "    # Access the script tag at index 2 (change index if needed)\n",
    "    target_script = scripts[2]\n",
    "\n",
    "    # Convert the script content to a string\n",
    "    target_string = str(target_script.contents[0])\n",
    "\n",
    "    # Decode the string using unicode_escape\n",
    "    cleaned_string = codecs.decode(target_string, 'unicode_escape')\n",
    "\n",
    "    # Extract the relevant JSON data from the decoded string\n",
    "    # (Note: The specific indices [30:-4] may need adjustment based on the data structure)\n",
    "    teams_data = json.loads(cleaned_string[30:-4])\n",
    "\n",
    "    # Return the extracted teams_data\n",
    "    return teams_data\n"
   ]
  },
  {
   "cell_type": "code",
   "execution_count": 5,
   "metadata": {},
   "outputs": [],
   "source": [
    "def normalized_dataframe(teams_data):\n",
    "    # Create an empty list to store individual team DataFrames\n",
    "    teams_normalized_dfs = []\n",
    "\n",
    "    # Iterate through each team's data\n",
    "    for team_id, team_data in teams_data.items():\n",
    "        # Create a DataFrame from the team's data\n",
    "        team_df = pd.DataFrame(team_data)\n",
    "\n",
    "        # Normalize the 'history' column using json_normalize and concatenate it with the original DataFrame\n",
    "        team_normalized_df = pd.concat([team_df.drop(['history'], axis=1), \n",
    "                                        json_normalize(team_df['history'])], axis=1)\n",
    "\n",
    "        # Append the normalized DataFrame to the list\n",
    "        teams_normalized_dfs.append(team_normalized_df)\n",
    "\n",
    "    # Return the final DataFrame\n",
    "    return teams_normalized_dfs\n"
   ]
  },
  {
   "cell_type": "code",
   "execution_count": 6,
   "metadata": {},
   "outputs": [],
   "source": [
    "# Create an empty list to store normalized DataFrames\n",
    "normalized_dfs = []\n",
    "\n",
    "# Iterate through each season\n",
    "for season in seasons:\n",
    "    # Fetch HTML content for the current season\n",
    "    season_html_content = get_season_html(season)\n",
    "\n",
    "    # Parse HTML content to obtain data\n",
    "    season_parsed_data = parse_html_content(season_html_content)\n",
    "\n",
    "    # Create normalized DataFrame for the current season\n",
    "    season_normalized_df = normalized_dataframe(season_parsed_data)\n",
    "\n",
    "    # Extend the list with the normalized DataFrames for the current season\n",
    "    normalized_dfs.extend(season_normalized_df)\n",
    "\n",
    "    # Add a 5-second delay before fetching data for the next season\n",
    "    time.sleep(5)\n",
    "\n",
    "# The 'normalized_dfs' list now contains all the normalized DataFrames for each season\n"
   ]
  },
  {
   "cell_type": "code",
   "execution_count": 7,
   "metadata": {},
   "outputs": [],
   "source": [
    "# Create a single DataFrame by concatenating all individual team DataFrames\n",
    "final_df = pd.concat(normalized_dfs, ignore_index=True)"
   ]
  },
  {
   "cell_type": "code",
   "execution_count": 8,
   "metadata": {},
   "outputs": [
    {
     "data": {
      "text/plain": [
       "(410, 23)"
      ]
     },
     "execution_count": 8,
     "metadata": {},
     "output_type": "execute_result"
    }
   ],
   "source": [
    "final_df.shape"
   ]
  },
  {
   "cell_type": "code",
   "execution_count": 9,
   "metadata": {},
   "outputs": [
    {
     "data": {
      "text/html": [
       "<div>\n",
       "<style scoped>\n",
       "    .dataframe tbody tr th:only-of-type {\n",
       "        vertical-align: middle;\n",
       "    }\n",
       "\n",
       "    .dataframe tbody tr th {\n",
       "        vertical-align: top;\n",
       "    }\n",
       "\n",
       "    .dataframe thead th {\n",
       "        text-align: right;\n",
       "    }\n",
       "</style>\n",
       "<table border=\"1\" class=\"dataframe\">\n",
       "  <thead>\n",
       "    <tr style=\"text-align: right;\">\n",
       "      <th></th>\n",
       "      <th>id</th>\n",
       "      <th>title</th>\n",
       "      <th>h_a</th>\n",
       "      <th>xG</th>\n",
       "      <th>xGA</th>\n",
       "      <th>npxG</th>\n",
       "      <th>npxGA</th>\n",
       "      <th>deep</th>\n",
       "      <th>deep_allowed</th>\n",
       "      <th>scored</th>\n",
       "      <th>...</th>\n",
       "      <th>date</th>\n",
       "      <th>wins</th>\n",
       "      <th>draws</th>\n",
       "      <th>loses</th>\n",
       "      <th>pts</th>\n",
       "      <th>npxGD</th>\n",
       "      <th>ppda.att</th>\n",
       "      <th>ppda.def</th>\n",
       "      <th>ppda_allowed.att</th>\n",
       "      <th>ppda_allowed.def</th>\n",
       "    </tr>\n",
       "  </thead>\n",
       "  <tbody>\n",
       "    <tr>\n",
       "      <th>0</th>\n",
       "      <td>71</td>\n",
       "      <td>Aston Villa</td>\n",
       "      <td>a</td>\n",
       "      <td>1.486000</td>\n",
       "      <td>4.322080</td>\n",
       "      <td>1.486000</td>\n",
       "      <td>4.322080</td>\n",
       "      <td>6</td>\n",
       "      <td>9</td>\n",
       "      <td>1</td>\n",
       "      <td>...</td>\n",
       "      <td>2023-08-12 16:30:00</td>\n",
       "      <td>0</td>\n",
       "      <td>0</td>\n",
       "      <td>1</td>\n",
       "      <td>0</td>\n",
       "      <td>-2.836080</td>\n",
       "      <td>324</td>\n",
       "      <td>28</td>\n",
       "      <td>255</td>\n",
       "      <td>17</td>\n",
       "    </tr>\n",
       "    <tr>\n",
       "      <th>1</th>\n",
       "      <td>71</td>\n",
       "      <td>Aston Villa</td>\n",
       "      <td>h</td>\n",
       "      <td>3.243360</td>\n",
       "      <td>0.721465</td>\n",
       "      <td>2.482190</td>\n",
       "      <td>0.721465</td>\n",
       "      <td>13</td>\n",
       "      <td>2</td>\n",
       "      <td>4</td>\n",
       "      <td>...</td>\n",
       "      <td>2023-08-20 13:00:00</td>\n",
       "      <td>1</td>\n",
       "      <td>0</td>\n",
       "      <td>0</td>\n",
       "      <td>3</td>\n",
       "      <td>1.760725</td>\n",
       "      <td>204</td>\n",
       "      <td>12</td>\n",
       "      <td>385</td>\n",
       "      <td>23</td>\n",
       "    </tr>\n",
       "    <tr>\n",
       "      <th>2</th>\n",
       "      <td>71</td>\n",
       "      <td>Aston Villa</td>\n",
       "      <td>a</td>\n",
       "      <td>2.836910</td>\n",
       "      <td>0.630605</td>\n",
       "      <td>2.836910</td>\n",
       "      <td>0.630605</td>\n",
       "      <td>9</td>\n",
       "      <td>8</td>\n",
       "      <td>3</td>\n",
       "      <td>...</td>\n",
       "      <td>2023-08-27 13:00:00</td>\n",
       "      <td>1</td>\n",
       "      <td>0</td>\n",
       "      <td>0</td>\n",
       "      <td>3</td>\n",
       "      <td>2.206305</td>\n",
       "      <td>365</td>\n",
       "      <td>15</td>\n",
       "      <td>254</td>\n",
       "      <td>31</td>\n",
       "    </tr>\n",
       "    <tr>\n",
       "      <th>3</th>\n",
       "      <td>71</td>\n",
       "      <td>Aston Villa</td>\n",
       "      <td>a</td>\n",
       "      <td>0.615503</td>\n",
       "      <td>2.731380</td>\n",
       "      <td>0.615503</td>\n",
       "      <td>2.731380</td>\n",
       "      <td>3</td>\n",
       "      <td>11</td>\n",
       "      <td>0</td>\n",
       "      <td>...</td>\n",
       "      <td>2023-09-03 13:00:00</td>\n",
       "      <td>0</td>\n",
       "      <td>0</td>\n",
       "      <td>1</td>\n",
       "      <td>0</td>\n",
       "      <td>-2.115877</td>\n",
       "      <td>543</td>\n",
       "      <td>8</td>\n",
       "      <td>248</td>\n",
       "      <td>29</td>\n",
       "    </tr>\n",
       "    <tr>\n",
       "      <th>4</th>\n",
       "      <td>71</td>\n",
       "      <td>Aston Villa</td>\n",
       "      <td>h</td>\n",
       "      <td>2.315180</td>\n",
       "      <td>1.116960</td>\n",
       "      <td>1.554010</td>\n",
       "      <td>1.116960</td>\n",
       "      <td>14</td>\n",
       "      <td>7</td>\n",
       "      <td>3</td>\n",
       "      <td>...</td>\n",
       "      <td>2023-09-16 14:00:00</td>\n",
       "      <td>1</td>\n",
       "      <td>0</td>\n",
       "      <td>0</td>\n",
       "      <td>3</td>\n",
       "      <td>0.437050</td>\n",
       "      <td>141</td>\n",
       "      <td>31</td>\n",
       "      <td>286</td>\n",
       "      <td>30</td>\n",
       "    </tr>\n",
       "  </tbody>\n",
       "</table>\n",
       "<p>5 rows × 23 columns</p>\n",
       "</div>"
      ],
      "text/plain": [
       "   id        title h_a        xG       xGA      npxG     npxGA  deep  \\\n",
       "0  71  Aston Villa   a  1.486000  4.322080  1.486000  4.322080     6   \n",
       "1  71  Aston Villa   h  3.243360  0.721465  2.482190  0.721465    13   \n",
       "2  71  Aston Villa   a  2.836910  0.630605  2.836910  0.630605     9   \n",
       "3  71  Aston Villa   a  0.615503  2.731380  0.615503  2.731380     3   \n",
       "4  71  Aston Villa   h  2.315180  1.116960  1.554010  1.116960    14   \n",
       "\n",
       "   deep_allowed  scored  ...                 date  wins draws loses  pts  \\\n",
       "0             9       1  ...  2023-08-12 16:30:00     0     0     1    0   \n",
       "1             2       4  ...  2023-08-20 13:00:00     1     0     0    3   \n",
       "2             8       3  ...  2023-08-27 13:00:00     1     0     0    3   \n",
       "3            11       0  ...  2023-09-03 13:00:00     0     0     1    0   \n",
       "4             7       3  ...  2023-09-16 14:00:00     1     0     0    3   \n",
       "\n",
       "      npxGD  ppda.att  ppda.def  ppda_allowed.att  ppda_allowed.def  \n",
       "0 -2.836080       324        28               255                17  \n",
       "1  1.760725       204        12               385                23  \n",
       "2  2.206305       365        15               254                31  \n",
       "3 -2.115877       543         8               248                29  \n",
       "4  0.437050       141        31               286                30  \n",
       "\n",
       "[5 rows x 23 columns]"
      ]
     },
     "execution_count": 9,
     "metadata": {},
     "output_type": "execute_result"
    }
   ],
   "source": [
    "final_df.head()"
   ]
  },
  {
   "cell_type": "code",
   "execution_count": 10,
   "metadata": {},
   "outputs": [],
   "source": [
    "# Define the API key variable to hold the access key for the Footystats API\n",
    "api_key = \"dc33d51f5d112e81607b27308e5b1eb0f891774ab3937106033f7f2e452c6a69\" "
   ]
  },
  {
   "cell_type": "code",
   "execution_count": 11,
   "metadata": {},
   "outputs": [],
   "source": [
    "# Define the URL for accessing the Football Data API's league list endpoint, including the API key\n",
    "url = \"https://api.football-data-api.com/league-list?key=\" + api_key\n",
    "\n",
    "# Make an HTTP GET request to the defined URL using the requests library\n",
    "response = requests.get(url)\n"
   ]
  },
  {
   "cell_type": "code",
   "execution_count": 12,
   "metadata": {},
   "outputs": [],
   "source": [
    "# Convert the response content to JSON format using the .json() method\n",
    "data = response.json()\n"
   ]
  },
  {
   "cell_type": "code",
   "execution_count": 13,
   "metadata": {},
   "outputs": [
    {
     "data": {
      "text/plain": [
       "dict_keys(['success', 'pager', 'metadata', 'data', 'message'])"
      ]
     },
     "execution_count": 13,
     "metadata": {},
     "output_type": "execute_result"
    }
   ],
   "source": [
    "# Retrieve the keys of the 'data' dictionary to inspect its structure\n",
    "data.keys()\n"
   ]
  },
  {
   "cell_type": "code",
   "execution_count": 14,
   "metadata": {},
   "outputs": [
    {
     "name": "stdout",
     "output_type": "stream",
     "text": [
      "['USA', 'Scotland', 'Germany', 'Europe', 'Malaysia']\n"
     ]
    }
   ],
   "source": [
    "# Extract the 'country' values from each dictionary in the 'data' list using list comprehension\n",
    "countries = [data.get('country') for data in data['data']]\n",
    "\n",
    "# Print the first 5 elements of the 'countries' list\n",
    "print(countries[:5])\n"
   ]
  },
  {
   "cell_type": "code",
   "execution_count": 15,
   "metadata": {},
   "outputs": [
    {
     "data": {
      "text/plain": [
       "5"
      ]
     },
     "execution_count": 15,
     "metadata": {},
     "output_type": "execute_result"
    }
   ],
   "source": [
    "# Find the index of the value \"England\" in the 'countries' list\n",
    "england_index = countries.index(\"England\")\n",
    "\n",
    "england_index"
   ]
  },
  {
   "cell_type": "code",
   "execution_count": 16,
   "metadata": {},
   "outputs": [
    {
     "data": {
      "text/plain": [
       "[{'id': 9, 'year': 20162017},\n",
       " {'id': 10, 'year': 20152016},\n",
       " {'id': 11, 'year': 20142015},\n",
       " {'id': 12, 'year': 20132014},\n",
       " {'id': 161, 'year': 20172018},\n",
       " {'id': 246, 'year': 20122013},\n",
       " {'id': 1625, 'year': 20182019},\n",
       " {'id': 2012, 'year': 20192020},\n",
       " {'id': 3119, 'year': 20112012},\n",
       " {'id': 3121, 'year': 20102011},\n",
       " {'id': 3125, 'year': 20092010},\n",
       " {'id': 3131, 'year': 20082009},\n",
       " {'id': 3137, 'year': 20072008},\n",
       " {'id': 4759, 'year': 20202021},\n",
       " {'id': 6135, 'year': 20212022},\n",
       " {'id': 7704, 'year': 20222023},\n",
       " {'id': 9660, 'year': 20232024}]"
      ]
     },
     "execution_count": 16,
     "metadata": {},
     "output_type": "execute_result"
    }
   ],
   "source": [
    "# Access information about seasons from the 'data' dictionary\n",
    "seasons_info = data[\"data\"][5][\"season\"]\n",
    "\n",
    "# Print the 'seasons_info' variable\n",
    "seasons_info\n"
   ]
  },
  {
   "cell_type": "code",
   "execution_count": 17,
   "metadata": {},
   "outputs": [
    {
     "name": "stdout",
     "output_type": "stream",
     "text": [
      "[9, 10, 11, 12, 161, 246, 1625, 2012, 3119, 3121, 3125, 3131, 3137, 4759, 6135, 7704, 9660]\n"
     ]
    }
   ],
   "source": [
    "# Extract the 'id' values from each dictionary in the 'seasons_info' list using list comprehension\n",
    "season_ids = [season.get(\"id\") for season in seasons_info]\n",
    "\n",
    "# Print the 'season_ids' list\n",
    "print(season_ids)\n"
   ]
  },
  {
   "cell_type": "code",
   "execution_count": 18,
   "metadata": {},
   "outputs": [],
   "source": [
    "# extract season_ids of interest\n",
    "season_ids_of_interest = [9660]"
   ]
  },
  {
   "cell_type": "code",
   "execution_count": 19,
   "metadata": {},
   "outputs": [],
   "source": [
    "def get_league_matches(api_key, season_id):\n",
    "    \"\"\"\n",
    "    Retrieve league matches data for a specific season.\n",
    "\n",
    "    Parameters:\n",
    "    - api_key (str): API key for accessing the Football Data API.\n",
    "    - season_id (int): ID of the specific season.\n",
    "\n",
    "    Returns:\n",
    "    - response: HTTP response object containing the retrieved data.\n",
    "    \"\"\"\n",
    "    # Construct the URL for accessing league matches data for the specified season\n",
    "    url = f\"https://api.football-data-api.com/league-matches?key={api_key}&season_id={season_id}\"\n",
    "    \n",
    "    # Make an HTTP GET request to the defined URL using the requests library\n",
    "    response = requests.get(url)\n",
    "    \n",
    "    # Return the response object\n",
    "    return response\n"
   ]
  },
  {
   "cell_type": "code",
   "execution_count": 20,
   "metadata": {},
   "outputs": [],
   "source": [
    "import pandas as pd\n",
    "\n",
    "def create_dataframe(api_key, season_ids):\n",
    "    \"\"\"\n",
    "    Create a Pandas DataFrame by fetching and concatenating league matches data for multiple seasons.\n",
    "\n",
    "    Parameters:\n",
    "    - api_key (str): API key for accessing the Football Data API.\n",
    "    - season_ids (list): List of season IDs for which data will be fetched.\n",
    "\n",
    "    Returns:\n",
    "    - concatenated_df: Pandas DataFrame containing concatenated league matches data for the specified seasons.\n",
    "    \"\"\"\n",
    "    # Initialize an empty list to store individual DataFrames for each season\n",
    "    list_of_dfs = []\n",
    "\n",
    "    # Iterate through each season ID in the provided list\n",
    "    for season_id in season_ids:\n",
    "        try:\n",
    "            # Fetch league matches data for the current season\n",
    "            response = get_league_matches(api_key, season_id)\n",
    "            data = response.json()\n",
    "            \n",
    "            # Create a DataFrame from the fetched data\n",
    "            df = pd.DataFrame(data[\"data\"])\n",
    "            \n",
    "            # Append the DataFrame to the list\n",
    "            list_of_dfs.append(df)\n",
    "        except:\n",
    "            # Handle errors and exit the function if an error occurs\n",
    "            print(\"There was an error.\")\n",
    "            exit()\n",
    "\n",
    "    # Concatenate the DataFrames in the list to create a single DataFrame\n",
    "    concatenated_df = pd.concat(list_of_dfs, ignore_index=True)\n",
    "    \n",
    "    # Return the concatenated DataFrame\n",
    "    return concatenated_df\n"
   ]
  },
  {
   "cell_type": "code",
   "execution_count": 21,
   "metadata": {},
   "outputs": [
    {
     "data": {
      "text/html": [
       "<div>\n",
       "<style scoped>\n",
       "    .dataframe tbody tr th:only-of-type {\n",
       "        vertical-align: middle;\n",
       "    }\n",
       "\n",
       "    .dataframe tbody tr th {\n",
       "        vertical-align: top;\n",
       "    }\n",
       "\n",
       "    .dataframe thead th {\n",
       "        text-align: right;\n",
       "    }\n",
       "</style>\n",
       "<table border=\"1\" class=\"dataframe\">\n",
       "  <thead>\n",
       "    <tr style=\"text-align: right;\">\n",
       "      <th></th>\n",
       "      <th>id</th>\n",
       "      <th>homeID</th>\n",
       "      <th>awayID</th>\n",
       "      <th>season</th>\n",
       "      <th>status</th>\n",
       "      <th>roundID</th>\n",
       "      <th>game_week</th>\n",
       "      <th>revised_game_week</th>\n",
       "      <th>homeGoals</th>\n",
       "      <th>awayGoals</th>\n",
       "      <th>...</th>\n",
       "      <th>matches_completed_minimum</th>\n",
       "      <th>over05</th>\n",
       "      <th>over15</th>\n",
       "      <th>over25</th>\n",
       "      <th>over35</th>\n",
       "      <th>over45</th>\n",
       "      <th>over55</th>\n",
       "      <th>btts</th>\n",
       "      <th>homeGoals_timings</th>\n",
       "      <th>awayGoals_timings</th>\n",
       "    </tr>\n",
       "  </thead>\n",
       "  <tbody>\n",
       "    <tr>\n",
       "      <th>0</th>\n",
       "      <td>6688951</td>\n",
       "      <td>145</td>\n",
       "      <td>93</td>\n",
       "      <td>2023/2024</td>\n",
       "      <td>complete</td>\n",
       "      <td>100543</td>\n",
       "      <td>1</td>\n",
       "      <td>-1</td>\n",
       "      <td>[]</td>\n",
       "      <td>[4, 36, 75]</td>\n",
       "      <td>...</td>\n",
       "      <td>20</td>\n",
       "      <td>True</td>\n",
       "      <td>True</td>\n",
       "      <td>True</td>\n",
       "      <td>False</td>\n",
       "      <td>False</td>\n",
       "      <td>False</td>\n",
       "      <td>False</td>\n",
       "      <td>[]</td>\n",
       "      <td>[4, 36, 75]</td>\n",
       "    </tr>\n",
       "    <tr>\n",
       "      <th>1</th>\n",
       "      <td>6688952</td>\n",
       "      <td>59</td>\n",
       "      <td>211</td>\n",
       "      <td>2023/2024</td>\n",
       "      <td>complete</td>\n",
       "      <td>100543</td>\n",
       "      <td>1</td>\n",
       "      <td>-1</td>\n",
       "      <td>[26, 32]</td>\n",
       "      <td>[82]</td>\n",
       "      <td>...</td>\n",
       "      <td>21</td>\n",
       "      <td>True</td>\n",
       "      <td>True</td>\n",
       "      <td>True</td>\n",
       "      <td>False</td>\n",
       "      <td>False</td>\n",
       "      <td>False</td>\n",
       "      <td>True</td>\n",
       "      <td>[26, 32]</td>\n",
       "      <td>[82]</td>\n",
       "    </tr>\n",
       "    <tr>\n",
       "      <th>2</th>\n",
       "      <td>6688953</td>\n",
       "      <td>148</td>\n",
       "      <td>153</td>\n",
       "      <td>2023/2024</td>\n",
       "      <td>complete</td>\n",
       "      <td>100543</td>\n",
       "      <td>1</td>\n",
       "      <td>-1</td>\n",
       "      <td>[82]</td>\n",
       "      <td>[51]</td>\n",
       "      <td>...</td>\n",
       "      <td>19</td>\n",
       "      <td>True</td>\n",
       "      <td>True</td>\n",
       "      <td>False</td>\n",
       "      <td>False</td>\n",
       "      <td>False</td>\n",
       "      <td>False</td>\n",
       "      <td>True</td>\n",
       "      <td>[82]</td>\n",
       "      <td>[51]</td>\n",
       "    </tr>\n",
       "    <tr>\n",
       "      <th>3</th>\n",
       "      <td>6688954</td>\n",
       "      <td>209</td>\n",
       "      <td>271</td>\n",
       "      <td>2023/2024</td>\n",
       "      <td>complete</td>\n",
       "      <td>100543</td>\n",
       "      <td>1</td>\n",
       "      <td>-1</td>\n",
       "      <td>[36, 71, 85, 90+5]</td>\n",
       "      <td>[81]</td>\n",
       "      <td>...</td>\n",
       "      <td>20</td>\n",
       "      <td>True</td>\n",
       "      <td>True</td>\n",
       "      <td>True</td>\n",
       "      <td>True</td>\n",
       "      <td>True</td>\n",
       "      <td>False</td>\n",
       "      <td>True</td>\n",
       "      <td>[36, 71, 85, 90+5]</td>\n",
       "      <td>[81]</td>\n",
       "    </tr>\n",
       "    <tr>\n",
       "      <th>4</th>\n",
       "      <td>6688955</td>\n",
       "      <td>144</td>\n",
       "      <td>162</td>\n",
       "      <td>2023/2024</td>\n",
       "      <td>complete</td>\n",
       "      <td>100543</td>\n",
       "      <td>1</td>\n",
       "      <td>-1</td>\n",
       "      <td>[]</td>\n",
       "      <td>[73]</td>\n",
       "      <td>...</td>\n",
       "      <td>21</td>\n",
       "      <td>True</td>\n",
       "      <td>False</td>\n",
       "      <td>False</td>\n",
       "      <td>False</td>\n",
       "      <td>False</td>\n",
       "      <td>False</td>\n",
       "      <td>False</td>\n",
       "      <td>[]</td>\n",
       "      <td>[73]</td>\n",
       "    </tr>\n",
       "  </tbody>\n",
       "</table>\n",
       "<p>5 rows × 215 columns</p>\n",
       "</div>"
      ],
      "text/plain": [
       "        id  homeID  awayID     season    status  roundID  game_week  \\\n",
       "0  6688951     145      93  2023/2024  complete   100543          1   \n",
       "1  6688952      59     211  2023/2024  complete   100543          1   \n",
       "2  6688953     148     153  2023/2024  complete   100543          1   \n",
       "3  6688954     209     271  2023/2024  complete   100543          1   \n",
       "4  6688955     144     162  2023/2024  complete   100543          1   \n",
       "\n",
       "   revised_game_week           homeGoals    awayGoals  ...  \\\n",
       "0                 -1                  []  [4, 36, 75]  ...   \n",
       "1                 -1            [26, 32]         [82]  ...   \n",
       "2                 -1                [82]         [51]  ...   \n",
       "3                 -1  [36, 71, 85, 90+5]         [81]  ...   \n",
       "4                 -1                  []         [73]  ...   \n",
       "\n",
       "   matches_completed_minimum  over05  over15  over25  over35  over45  over55  \\\n",
       "0                         20    True    True    True   False   False   False   \n",
       "1                         21    True    True    True   False   False   False   \n",
       "2                         19    True    True   False   False   False   False   \n",
       "3                         20    True    True    True    True    True   False   \n",
       "4                         21    True   False   False   False   False   False   \n",
       "\n",
       "    btts   homeGoals_timings  awayGoals_timings  \n",
       "0  False                  []        [4, 36, 75]  \n",
       "1   True            [26, 32]               [82]  \n",
       "2   True                [82]               [51]  \n",
       "3   True  [36, 71, 85, 90+5]               [81]  \n",
       "4  False                  []               [73]  \n",
       "\n",
       "[5 rows x 215 columns]"
      ]
     },
     "execution_count": 21,
     "metadata": {},
     "output_type": "execute_result"
    }
   ],
   "source": [
    "# Create a DataFrame containing league matches data for multiple seasons using the create_dataframe function\n",
    "matches_df = create_dataframe(api_key, season_ids_of_interest)\n",
    "\n",
    "# Display the first few rows of the DataFrame to inspect the data\n",
    "matches_df.head()\n"
   ]
  },
  {
   "cell_type": "code",
   "execution_count": 22,
   "metadata": {},
   "outputs": [
    {
     "name": "stdout",
     "output_type": "stream",
     "text": [
      "<class 'pandas.core.frame.DataFrame'>\n",
      "RangeIndex: 380 entries, 0 to 379\n",
      "Columns: 215 entries, id to awayGoals_timings\n",
      "dtypes: bool(7), float64(78), int64(115), object(15)\n",
      "memory usage: 620.2+ KB\n"
     ]
    }
   ],
   "source": [
    "# Inspect the resulting dataframe\n",
    "matches_df.info()"
   ]
  },
  {
   "cell_type": "code",
   "execution_count": 23,
   "metadata": {},
   "outputs": [
    {
     "data": {
      "text/plain": [
       "(380, 215)"
      ]
     },
     "execution_count": 23,
     "metadata": {},
     "output_type": "execute_result"
    }
   ],
   "source": [
    "# Inspect the shape of  dataframe\n",
    "matches_df.shape"
   ]
  },
  {
   "cell_type": "code",
   "execution_count": 24,
   "metadata": {},
   "outputs": [],
   "source": [
    "# Save the final dataframe to a CSV file for scraped testing data\n",
    "final_df.to_csv('./data/scraped_testing_data.csv', index=False)\n",
    "\n",
    "# Save the matches dataframe to a CSV file for API testing data\n",
    "matches_df.to_csv('./data/api_testing_data.csv', index=False)\n"
   ]
  },
  {
   "cell_type": "code",
   "execution_count": null,
   "metadata": {},
   "outputs": [],
   "source": []
  }
 ],
 "metadata": {
  "kernelspec": {
   "display_name": "Python 3",
   "language": "python",
   "name": "python3"
  },
  "language_info": {
   "codemirror_mode": {
    "name": "ipython",
    "version": 3
   },
   "file_extension": ".py",
   "mimetype": "text/x-python",
   "name": "python",
   "nbconvert_exporter": "python",
   "pygments_lexer": "ipython3",
   "version": "3.8.5"
  }
 },
 "nbformat": 4,
 "nbformat_minor": 5
}
