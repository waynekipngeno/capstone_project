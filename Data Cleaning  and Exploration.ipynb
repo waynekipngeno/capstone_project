{
 "cells": [
  {
   "cell_type": "code",
   "execution_count": 1,
   "metadata": {},
   "outputs": [],
   "source": [
    "import pandas as pd"
   ]
  },
  {
   "cell_type": "code",
   "execution_count": 2,
   "metadata": {},
   "outputs": [
    {
     "data": {
      "text/html": [
       "<div>\n",
       "<style scoped>\n",
       "    .dataframe tbody tr th:only-of-type {\n",
       "        vertical-align: middle;\n",
       "    }\n",
       "\n",
       "    .dataframe tbody tr th {\n",
       "        vertical-align: top;\n",
       "    }\n",
       "\n",
       "    .dataframe thead th {\n",
       "        text-align: right;\n",
       "    }\n",
       "</style>\n",
       "<table border=\"1\" class=\"dataframe\">\n",
       "  <thead>\n",
       "    <tr style=\"text-align: right;\">\n",
       "      <th></th>\n",
       "      <th>id</th>\n",
       "      <th>homeID</th>\n",
       "      <th>awayID</th>\n",
       "      <th>season</th>\n",
       "      <th>status</th>\n",
       "      <th>roundID</th>\n",
       "      <th>game_week</th>\n",
       "      <th>revised_game_week</th>\n",
       "      <th>homeGoals</th>\n",
       "      <th>awayGoals</th>\n",
       "      <th>...</th>\n",
       "      <th>matches_completed_minimum</th>\n",
       "      <th>over05</th>\n",
       "      <th>over15</th>\n",
       "      <th>over25</th>\n",
       "      <th>over35</th>\n",
       "      <th>over45</th>\n",
       "      <th>over55</th>\n",
       "      <th>btts</th>\n",
       "      <th>homeGoals_timings</th>\n",
       "      <th>awayGoals_timings</th>\n",
       "    </tr>\n",
       "  </thead>\n",
       "  <tbody>\n",
       "    <tr>\n",
       "      <th>0</th>\n",
       "      <td>2155</td>\n",
       "      <td>150</td>\n",
       "      <td>108</td>\n",
       "      <td>2016/2017</td>\n",
       "      <td>complete</td>\n",
       "      <td>19</td>\n",
       "      <td>1</td>\n",
       "      <td>-1</td>\n",
       "      <td>['45+1', '57']</td>\n",
       "      <td>['47']</td>\n",
       "      <td>...</td>\n",
       "      <td>38</td>\n",
       "      <td>True</td>\n",
       "      <td>True</td>\n",
       "      <td>True</td>\n",
       "      <td>False</td>\n",
       "      <td>False</td>\n",
       "      <td>False</td>\n",
       "      <td>True</td>\n",
       "      <td>['45+1', '57']</td>\n",
       "      <td>['47']</td>\n",
       "    </tr>\n",
       "    <tr>\n",
       "      <th>1</th>\n",
       "      <td>2156</td>\n",
       "      <td>145</td>\n",
       "      <td>154</td>\n",
       "      <td>2016/2017</td>\n",
       "      <td>complete</td>\n",
       "      <td>19</td>\n",
       "      <td>1</td>\n",
       "      <td>-1</td>\n",
       "      <td>[]</td>\n",
       "      <td>['82']</td>\n",
       "      <td>...</td>\n",
       "      <td>38</td>\n",
       "      <td>True</td>\n",
       "      <td>False</td>\n",
       "      <td>False</td>\n",
       "      <td>False</td>\n",
       "      <td>False</td>\n",
       "      <td>False</td>\n",
       "      <td>False</td>\n",
       "      <td>[]</td>\n",
       "      <td>['82']</td>\n",
       "    </tr>\n",
       "    <tr>\n",
       "      <th>2</th>\n",
       "      <td>2157</td>\n",
       "      <td>143</td>\n",
       "      <td>142</td>\n",
       "      <td>2016/2017</td>\n",
       "      <td>complete</td>\n",
       "      <td>19</td>\n",
       "      <td>1</td>\n",
       "      <td>-1</td>\n",
       "      <td>[]</td>\n",
       "      <td>['74']</td>\n",
       "      <td>...</td>\n",
       "      <td>38</td>\n",
       "      <td>True</td>\n",
       "      <td>False</td>\n",
       "      <td>False</td>\n",
       "      <td>False</td>\n",
       "      <td>False</td>\n",
       "      <td>False</td>\n",
       "      <td>False</td>\n",
       "      <td>[]</td>\n",
       "      <td>['74']</td>\n",
       "    </tr>\n",
       "    <tr>\n",
       "      <th>3</th>\n",
       "      <td>2158</td>\n",
       "      <td>144</td>\n",
       "      <td>92</td>\n",
       "      <td>2016/2017</td>\n",
       "      <td>complete</td>\n",
       "      <td>19</td>\n",
       "      <td>1</td>\n",
       "      <td>-1</td>\n",
       "      <td>['5']</td>\n",
       "      <td>['59']</td>\n",
       "      <td>...</td>\n",
       "      <td>38</td>\n",
       "      <td>True</td>\n",
       "      <td>True</td>\n",
       "      <td>False</td>\n",
       "      <td>False</td>\n",
       "      <td>False</td>\n",
       "      <td>False</td>\n",
       "      <td>True</td>\n",
       "      <td>['5']</td>\n",
       "      <td>['59']</td>\n",
       "    </tr>\n",
       "    <tr>\n",
       "      <th>4</th>\n",
       "      <td>2159</td>\n",
       "      <td>147</td>\n",
       "      <td>141</td>\n",
       "      <td>2016/2017</td>\n",
       "      <td>complete</td>\n",
       "      <td>19</td>\n",
       "      <td>1</td>\n",
       "      <td>-1</td>\n",
       "      <td>['11']</td>\n",
       "      <td>['67']</td>\n",
       "      <td>...</td>\n",
       "      <td>38</td>\n",
       "      <td>True</td>\n",
       "      <td>True</td>\n",
       "      <td>False</td>\n",
       "      <td>False</td>\n",
       "      <td>False</td>\n",
       "      <td>False</td>\n",
       "      <td>True</td>\n",
       "      <td>['11']</td>\n",
       "      <td>['67']</td>\n",
       "    </tr>\n",
       "  </tbody>\n",
       "</table>\n",
       "<p>5 rows × 215 columns</p>\n",
       "</div>"
      ],
      "text/plain": [
       "     id  homeID  awayID     season    status  roundID  game_week  \\\n",
       "0  2155     150     108  2016/2017  complete       19          1   \n",
       "1  2156     145     154  2016/2017  complete       19          1   \n",
       "2  2157     143     142  2016/2017  complete       19          1   \n",
       "3  2158     144      92  2016/2017  complete       19          1   \n",
       "4  2159     147     141  2016/2017  complete       19          1   \n",
       "\n",
       "   revised_game_week       homeGoals awayGoals  ...  \\\n",
       "0                 -1  ['45+1', '57']    ['47']  ...   \n",
       "1                 -1              []    ['82']  ...   \n",
       "2                 -1              []    ['74']  ...   \n",
       "3                 -1           ['5']    ['59']  ...   \n",
       "4                 -1          ['11']    ['67']  ...   \n",
       "\n",
       "   matches_completed_minimum  over05  over15  over25  over35  over45  over55  \\\n",
       "0                         38    True    True    True   False   False   False   \n",
       "1                         38    True   False   False   False   False   False   \n",
       "2                         38    True   False   False   False   False   False   \n",
       "3                         38    True    True   False   False   False   False   \n",
       "4                         38    True    True   False   False   False   False   \n",
       "\n",
       "    btts  homeGoals_timings  awayGoals_timings  \n",
       "0   True     ['45+1', '57']             ['47']  \n",
       "1  False                 []             ['82']  \n",
       "2  False                 []             ['74']  \n",
       "3   True              ['5']             ['59']  \n",
       "4   True             ['11']             ['67']  \n",
       "\n",
       "[5 rows x 215 columns]"
      ]
     },
     "execution_count": 2,
     "metadata": {},
     "output_type": "execute_result"
    }
   ],
   "source": [
    "# define file path for matches.csv\n",
    "file_path = './data/Matches.csv'\n",
    "\n",
    "# read matches.csv file into a dataframe\n",
    "matches_df = pd.read_csv(file_path, header=0)\n",
    "\n",
    "# inspect the first five rows of the dataframe\n",
    "matches_df.head()"
   ]
  },
  {
   "cell_type": "code",
   "execution_count": 3,
   "metadata": {},
   "outputs": [
    {
     "data": {
      "text/plain": [
       "(6460, 215)"
      ]
     },
     "execution_count": 3,
     "metadata": {},
     "output_type": "execute_result"
    }
   ],
   "source": [
    "matches_df.shape"
   ]
  },
  {
   "cell_type": "code",
   "execution_count": 4,
   "metadata": {},
   "outputs": [
    {
     "data": {
      "text/plain": [
       "array([dtype('int64'), dtype('O'), dtype('float64'), dtype('bool')],\n",
       "      dtype=object)"
      ]
     },
     "execution_count": 4,
     "metadata": {},
     "output_type": "execute_result"
    }
   ],
   "source": [
    "matches_df.dtypes.unique()"
   ]
  },
  {
   "cell_type": "code",
   "execution_count": 5,
   "metadata": {},
   "outputs": [
    {
     "data": {
      "text/plain": [
       "season               object\n",
       "status               object\n",
       "homeGoals            object\n",
       "awayGoals            object\n",
       "stadium_name         object\n",
       "stadium_location     object\n",
       "home_url             object\n",
       "home_image           object\n",
       "home_name            object\n",
       "away_url             object\n",
       "away_image           object\n",
       "away_name            object\n",
       "match_url            object\n",
       "homeGoals_timings    object\n",
       "awayGoals_timings    object\n",
       "dtype: object"
      ]
     },
     "execution_count": 5,
     "metadata": {},
     "output_type": "execute_result"
    }
   ],
   "source": [
    "matches_df.dtypes[matches_df.dtypes == 'object']"
   ]
  },
  {
   "cell_type": "code",
   "execution_count": 6,
   "metadata": {},
   "outputs": [
    {
     "data": {
      "text/plain": [
       "over05    bool\n",
       "over15    bool\n",
       "over25    bool\n",
       "over35    bool\n",
       "over45    bool\n",
       "over55    bool\n",
       "btts      bool\n",
       "dtype: object"
      ]
     },
     "execution_count": 6,
     "metadata": {},
     "output_type": "execute_result"
    }
   ],
   "source": [
    "matches_df.dtypes[matches_df.dtypes == 'bool']"
   ]
  },
  {
   "cell_type": "code",
   "execution_count": 7,
   "metadata": {},
   "outputs": [
    {
     "data": {
      "text/plain": [
       "array([0], dtype=int64)"
      ]
     },
     "execution_count": 7,
     "metadata": {},
     "output_type": "execute_result"
    }
   ],
   "source": [
    "# check unique values in the 'no_home_away' column\n",
    "matches_df['no_home_away'].unique()"
   ]
  },
  {
   "cell_type": "code",
   "execution_count": 8,
   "metadata": {},
   "outputs": [
    {
     "data": {
      "text/plain": [
       "array([1], dtype=int64)"
      ]
     },
     "execution_count": 8,
     "metadata": {},
     "output_type": "execute_result"
    }
   ],
   "source": [
    "matches_df['pens_recorded'].unique()"
   ]
  },
  {
   "cell_type": "code",
   "execution_count": 9,
   "metadata": {
    "scrolled": false
   },
   "outputs": [
    {
     "data": {
      "text/plain": [
       "array([ 1,  2,  3,  4,  5,  6,  7,  8,  9, 10, 11, 12, 13, 14, 15, 16, 17,\n",
       "       18, 19, 20, 21, 22, 23, 24, 25, 26, 27, 28, 29, 30, 31, 32, 33, 34,\n",
       "       35, 36, 37, 38,  0], dtype=int64)"
      ]
     },
     "execution_count": 9,
     "metadata": {},
     "output_type": "execute_result"
    }
   ],
   "source": [
    "# check unique values in the 'game_week' column\n",
    "matches_df['game_week'].unique()"
   ]
  },
  {
   "cell_type": "code",
   "execution_count": 10,
   "metadata": {},
   "outputs": [
    {
     "data": {
      "text/plain": [
       "array([-1], dtype=int64)"
      ]
     },
     "execution_count": 10,
     "metadata": {},
     "output_type": "execute_result"
    }
   ],
   "source": [
    "matches_df['revised_game_week'].unique()"
   ]
  },
  {
   "cell_type": "code",
   "execution_count": 11,
   "metadata": {},
   "outputs": [
    {
     "data": {
      "text/html": [
       "<div>\n",
       "<style scoped>\n",
       "    .dataframe tbody tr th:only-of-type {\n",
       "        vertical-align: middle;\n",
       "    }\n",
       "\n",
       "    .dataframe tbody tr th {\n",
       "        vertical-align: top;\n",
       "    }\n",
       "\n",
       "    .dataframe thead th {\n",
       "        text-align: right;\n",
       "    }\n",
       "</style>\n",
       "<table border=\"1\" class=\"dataframe\">\n",
       "  <thead>\n",
       "    <tr style=\"text-align: right;\">\n",
       "      <th></th>\n",
       "      <th>homeGoals</th>\n",
       "      <th>awayGoals</th>\n",
       "      <th>homeGoals_timings</th>\n",
       "      <th>awayGoals_timings</th>\n",
       "    </tr>\n",
       "  </thead>\n",
       "  <tbody>\n",
       "    <tr>\n",
       "      <th>0</th>\n",
       "      <td>['45+1', '57']</td>\n",
       "      <td>['47']</td>\n",
       "      <td>['45+1', '57']</td>\n",
       "      <td>['47']</td>\n",
       "    </tr>\n",
       "    <tr>\n",
       "      <th>1</th>\n",
       "      <td>[]</td>\n",
       "      <td>['82']</td>\n",
       "      <td>[]</td>\n",
       "      <td>['82']</td>\n",
       "    </tr>\n",
       "    <tr>\n",
       "      <th>2</th>\n",
       "      <td>[]</td>\n",
       "      <td>['74']</td>\n",
       "      <td>[]</td>\n",
       "      <td>['74']</td>\n",
       "    </tr>\n",
       "    <tr>\n",
       "      <th>3</th>\n",
       "      <td>['5']</td>\n",
       "      <td>['59']</td>\n",
       "      <td>['5']</td>\n",
       "      <td>['59']</td>\n",
       "    </tr>\n",
       "    <tr>\n",
       "      <th>4</th>\n",
       "      <td>['11']</td>\n",
       "      <td>['67']</td>\n",
       "      <td>['11']</td>\n",
       "      <td>['67']</td>\n",
       "    </tr>\n",
       "  </tbody>\n",
       "</table>\n",
       "</div>"
      ],
      "text/plain": [
       "        homeGoals awayGoals homeGoals_timings awayGoals_timings\n",
       "0  ['45+1', '57']    ['47']    ['45+1', '57']            ['47']\n",
       "1              []    ['82']                []            ['82']\n",
       "2              []    ['74']                []            ['74']\n",
       "3           ['5']    ['59']             ['5']            ['59']\n",
       "4          ['11']    ['67']            ['11']            ['67']"
      ]
     },
     "execution_count": 11,
     "metadata": {},
     "output_type": "execute_result"
    }
   ],
   "source": [
    "matches_df[['homeGoals', 'awayGoals', 'homeGoals_timings', 'awayGoals_timings']].head()"
   ]
  },
  {
   "cell_type": "code",
   "execution_count": 12,
   "metadata": {},
   "outputs": [
    {
     "data": {
      "text/plain": [
       "array(['complete', 'incomplete', 'suspended'], dtype=object)"
      ]
     },
     "execution_count": 12,
     "metadata": {},
     "output_type": "execute_result"
    }
   ],
   "source": [
    "# check unique values in the status column\n",
    "matches_df['status'].unique()"
   ]
  },
  {
   "cell_type": "code",
   "execution_count": 13,
   "metadata": {
    "scrolled": false
   },
   "outputs": [
    {
     "data": {
      "text/html": [
       "<div>\n",
       "<style scoped>\n",
       "    .dataframe tbody tr th:only-of-type {\n",
       "        vertical-align: middle;\n",
       "    }\n",
       "\n",
       "    .dataframe tbody tr th {\n",
       "        vertical-align: top;\n",
       "    }\n",
       "\n",
       "    .dataframe thead th {\n",
       "        text-align: right;\n",
       "    }\n",
       "</style>\n",
       "<table border=\"1\" class=\"dataframe\">\n",
       "  <thead>\n",
       "    <tr style=\"text-align: right;\">\n",
       "      <th></th>\n",
       "      <th>id</th>\n",
       "      <th>homeID</th>\n",
       "      <th>awayID</th>\n",
       "      <th>season</th>\n",
       "      <th>status</th>\n",
       "      <th>roundID</th>\n",
       "      <th>game_week</th>\n",
       "      <th>revised_game_week</th>\n",
       "      <th>homeGoals</th>\n",
       "      <th>awayGoals</th>\n",
       "      <th>...</th>\n",
       "      <th>matches_completed_minimum</th>\n",
       "      <th>over05</th>\n",
       "      <th>over15</th>\n",
       "      <th>over25</th>\n",
       "      <th>over35</th>\n",
       "      <th>over45</th>\n",
       "      <th>over55</th>\n",
       "      <th>btts</th>\n",
       "      <th>homeGoals_timings</th>\n",
       "      <th>awayGoals_timings</th>\n",
       "    </tr>\n",
       "  </thead>\n",
       "  <tbody>\n",
       "    <tr>\n",
       "      <th>6240</th>\n",
       "      <td>6689113</td>\n",
       "      <td>148</td>\n",
       "      <td>271</td>\n",
       "      <td>2023/2024</td>\n",
       "      <td>incomplete</td>\n",
       "      <td>100543</td>\n",
       "      <td>17</td>\n",
       "      <td>-1</td>\n",
       "      <td>[]</td>\n",
       "      <td>[]</td>\n",
       "      <td>...</td>\n",
       "      <td>19</td>\n",
       "      <td>False</td>\n",
       "      <td>False</td>\n",
       "      <td>False</td>\n",
       "      <td>False</td>\n",
       "      <td>False</td>\n",
       "      <td>False</td>\n",
       "      <td>False</td>\n",
       "      <td>[]</td>\n",
       "      <td>[]</td>\n",
       "    </tr>\n",
       "    <tr>\n",
       "      <th>6280</th>\n",
       "      <td>6689153</td>\n",
       "      <td>148</td>\n",
       "      <td>151</td>\n",
       "      <td>2023/2024</td>\n",
       "      <td>incomplete</td>\n",
       "      <td>100543</td>\n",
       "      <td>21</td>\n",
       "      <td>-1</td>\n",
       "      <td>[]</td>\n",
       "      <td>[]</td>\n",
       "      <td>...</td>\n",
       "      <td>19</td>\n",
       "      <td>False</td>\n",
       "      <td>False</td>\n",
       "      <td>False</td>\n",
       "      <td>False</td>\n",
       "      <td>False</td>\n",
       "      <td>False</td>\n",
       "      <td>False</td>\n",
       "      <td>[]</td>\n",
       "      <td>[]</td>\n",
       "    </tr>\n",
       "    <tr>\n",
       "      <th>6281</th>\n",
       "      <td>6689154</td>\n",
       "      <td>59</td>\n",
       "      <td>143</td>\n",
       "      <td>2023/2024</td>\n",
       "      <td>incomplete</td>\n",
       "      <td>100543</td>\n",
       "      <td>21</td>\n",
       "      <td>-1</td>\n",
       "      <td>[]</td>\n",
       "      <td>[]</td>\n",
       "      <td>...</td>\n",
       "      <td>20</td>\n",
       "      <td>False</td>\n",
       "      <td>False</td>\n",
       "      <td>False</td>\n",
       "      <td>False</td>\n",
       "      <td>False</td>\n",
       "      <td>False</td>\n",
       "      <td>False</td>\n",
       "      <td>[]</td>\n",
       "      <td>[]</td>\n",
       "    </tr>\n",
       "    <tr>\n",
       "      <th>6282</th>\n",
       "      <td>6689155</td>\n",
       "      <td>218</td>\n",
       "      <td>211</td>\n",
       "      <td>2023/2024</td>\n",
       "      <td>incomplete</td>\n",
       "      <td>100543</td>\n",
       "      <td>21</td>\n",
       "      <td>-1</td>\n",
       "      <td>[]</td>\n",
       "      <td>[]</td>\n",
       "      <td>...</td>\n",
       "      <td>19</td>\n",
       "      <td>False</td>\n",
       "      <td>False</td>\n",
       "      <td>False</td>\n",
       "      <td>False</td>\n",
       "      <td>False</td>\n",
       "      <td>False</td>\n",
       "      <td>False</td>\n",
       "      <td>[]</td>\n",
       "      <td>[]</td>\n",
       "    </tr>\n",
       "    <tr>\n",
       "      <th>6283</th>\n",
       "      <td>6689156</td>\n",
       "      <td>209</td>\n",
       "      <td>223</td>\n",
       "      <td>2023/2024</td>\n",
       "      <td>incomplete</td>\n",
       "      <td>100543</td>\n",
       "      <td>21</td>\n",
       "      <td>-1</td>\n",
       "      <td>[]</td>\n",
       "      <td>[]</td>\n",
       "      <td>...</td>\n",
       "      <td>20</td>\n",
       "      <td>False</td>\n",
       "      <td>False</td>\n",
       "      <td>False</td>\n",
       "      <td>False</td>\n",
       "      <td>False</td>\n",
       "      <td>False</td>\n",
       "      <td>False</td>\n",
       "      <td>[]</td>\n",
       "      <td>[]</td>\n",
       "    </tr>\n",
       "    <tr>\n",
       "      <th>...</th>\n",
       "      <td>...</td>\n",
       "      <td>...</td>\n",
       "      <td>...</td>\n",
       "      <td>...</td>\n",
       "      <td>...</td>\n",
       "      <td>...</td>\n",
       "      <td>...</td>\n",
       "      <td>...</td>\n",
       "      <td>...</td>\n",
       "      <td>...</td>\n",
       "      <td>...</td>\n",
       "      <td>...</td>\n",
       "      <td>...</td>\n",
       "      <td>...</td>\n",
       "      <td>...</td>\n",
       "      <td>...</td>\n",
       "      <td>...</td>\n",
       "      <td>...</td>\n",
       "      <td>...</td>\n",
       "      <td>...</td>\n",
       "      <td>...</td>\n",
       "    </tr>\n",
       "    <tr>\n",
       "      <th>6455</th>\n",
       "      <td>6689328</td>\n",
       "      <td>143</td>\n",
       "      <td>158</td>\n",
       "      <td>2023/2024</td>\n",
       "      <td>incomplete</td>\n",
       "      <td>100543</td>\n",
       "      <td>38</td>\n",
       "      <td>-1</td>\n",
       "      <td>[]</td>\n",
       "      <td>[]</td>\n",
       "      <td>...</td>\n",
       "      <td>20</td>\n",
       "      <td>False</td>\n",
       "      <td>False</td>\n",
       "      <td>False</td>\n",
       "      <td>False</td>\n",
       "      <td>False</td>\n",
       "      <td>False</td>\n",
       "      <td>False</td>\n",
       "      <td>[]</td>\n",
       "      <td>[]</td>\n",
       "    </tr>\n",
       "    <tr>\n",
       "      <th>6456</th>\n",
       "      <td>6689329</td>\n",
       "      <td>151</td>\n",
       "      <td>223</td>\n",
       "      <td>2023/2024</td>\n",
       "      <td>incomplete</td>\n",
       "      <td>100543</td>\n",
       "      <td>38</td>\n",
       "      <td>-1</td>\n",
       "      <td>[]</td>\n",
       "      <td>[]</td>\n",
       "      <td>...</td>\n",
       "      <td>20</td>\n",
       "      <td>False</td>\n",
       "      <td>False</td>\n",
       "      <td>False</td>\n",
       "      <td>False</td>\n",
       "      <td>False</td>\n",
       "      <td>False</td>\n",
       "      <td>False</td>\n",
       "      <td>[]</td>\n",
       "      <td>[]</td>\n",
       "    </tr>\n",
       "    <tr>\n",
       "      <th>6457</th>\n",
       "      <td>6689330</td>\n",
       "      <td>271</td>\n",
       "      <td>162</td>\n",
       "      <td>2023/2024</td>\n",
       "      <td>incomplete</td>\n",
       "      <td>100543</td>\n",
       "      <td>38</td>\n",
       "      <td>-1</td>\n",
       "      <td>[]</td>\n",
       "      <td>[]</td>\n",
       "      <td>...</td>\n",
       "      <td>19</td>\n",
       "      <td>False</td>\n",
       "      <td>False</td>\n",
       "      <td>False</td>\n",
       "      <td>False</td>\n",
       "      <td>False</td>\n",
       "      <td>False</td>\n",
       "      <td>False</td>\n",
       "      <td>[]</td>\n",
       "      <td>[]</td>\n",
       "    </tr>\n",
       "    <tr>\n",
       "      <th>6458</th>\n",
       "      <td>6689331</td>\n",
       "      <td>93</td>\n",
       "      <td>153</td>\n",
       "      <td>2023/2024</td>\n",
       "      <td>incomplete</td>\n",
       "      <td>100543</td>\n",
       "      <td>38</td>\n",
       "      <td>-1</td>\n",
       "      <td>[]</td>\n",
       "      <td>[]</td>\n",
       "      <td>...</td>\n",
       "      <td>19</td>\n",
       "      <td>False</td>\n",
       "      <td>False</td>\n",
       "      <td>False</td>\n",
       "      <td>False</td>\n",
       "      <td>False</td>\n",
       "      <td>False</td>\n",
       "      <td>False</td>\n",
       "      <td>[]</td>\n",
       "      <td>[]</td>\n",
       "    </tr>\n",
       "    <tr>\n",
       "      <th>6459</th>\n",
       "      <td>6689332</td>\n",
       "      <td>251</td>\n",
       "      <td>92</td>\n",
       "      <td>2023/2024</td>\n",
       "      <td>incomplete</td>\n",
       "      <td>100543</td>\n",
       "      <td>38</td>\n",
       "      <td>-1</td>\n",
       "      <td>[]</td>\n",
       "      <td>[]</td>\n",
       "      <td>...</td>\n",
       "      <td>20</td>\n",
       "      <td>False</td>\n",
       "      <td>False</td>\n",
       "      <td>False</td>\n",
       "      <td>False</td>\n",
       "      <td>False</td>\n",
       "      <td>False</td>\n",
       "      <td>False</td>\n",
       "      <td>[]</td>\n",
       "      <td>[]</td>\n",
       "    </tr>\n",
       "  </tbody>\n",
       "</table>\n",
       "<p>181 rows × 215 columns</p>\n",
       "</div>"
      ],
      "text/plain": [
       "           id  homeID  awayID     season      status  roundID  game_week  \\\n",
       "6240  6689113     148     271  2023/2024  incomplete   100543         17   \n",
       "6280  6689153     148     151  2023/2024  incomplete   100543         21   \n",
       "6281  6689154      59     143  2023/2024  incomplete   100543         21   \n",
       "6282  6689155     218     211  2023/2024  incomplete   100543         21   \n",
       "6283  6689156     209     223  2023/2024  incomplete   100543         21   \n",
       "...       ...     ...     ...        ...         ...      ...        ...   \n",
       "6455  6689328     143     158  2023/2024  incomplete   100543         38   \n",
       "6456  6689329     151     223  2023/2024  incomplete   100543         38   \n",
       "6457  6689330     271     162  2023/2024  incomplete   100543         38   \n",
       "6458  6689331      93     153  2023/2024  incomplete   100543         38   \n",
       "6459  6689332     251      92  2023/2024  incomplete   100543         38   \n",
       "\n",
       "      revised_game_week homeGoals awayGoals  ...  matches_completed_minimum  \\\n",
       "6240                 -1        []        []  ...                         19   \n",
       "6280                 -1        []        []  ...                         19   \n",
       "6281                 -1        []        []  ...                         20   \n",
       "6282                 -1        []        []  ...                         19   \n",
       "6283                 -1        []        []  ...                         20   \n",
       "...                 ...       ...       ...  ...                        ...   \n",
       "6455                 -1        []        []  ...                         20   \n",
       "6456                 -1        []        []  ...                         20   \n",
       "6457                 -1        []        []  ...                         19   \n",
       "6458                 -1        []        []  ...                         19   \n",
       "6459                 -1        []        []  ...                         20   \n",
       "\n",
       "      over05  over15  over25  over35  over45  over55   btts  \\\n",
       "6240   False   False   False   False   False   False  False   \n",
       "6280   False   False   False   False   False   False  False   \n",
       "6281   False   False   False   False   False   False  False   \n",
       "6282   False   False   False   False   False   False  False   \n",
       "6283   False   False   False   False   False   False  False   \n",
       "...      ...     ...     ...     ...     ...     ...    ...   \n",
       "6455   False   False   False   False   False   False  False   \n",
       "6456   False   False   False   False   False   False  False   \n",
       "6457   False   False   False   False   False   False  False   \n",
       "6458   False   False   False   False   False   False  False   \n",
       "6459   False   False   False   False   False   False  False   \n",
       "\n",
       "      homeGoals_timings  awayGoals_timings  \n",
       "6240                 []                 []  \n",
       "6280                 []                 []  \n",
       "6281                 []                 []  \n",
       "6282                 []                 []  \n",
       "6283                 []                 []  \n",
       "...                 ...                ...  \n",
       "6455                 []                 []  \n",
       "6456                 []                 []  \n",
       "6457                 []                 []  \n",
       "6458                 []                 []  \n",
       "6459                 []                 []  \n",
       "\n",
       "[181 rows x 215 columns]"
      ]
     },
     "execution_count": 13,
     "metadata": {},
     "output_type": "execute_result"
    }
   ],
   "source": [
    "# Check list of incomplete matches\n",
    "matches_df[matches_df['status'] == 'incomplete' ]"
   ]
  },
  {
   "cell_type": "code",
   "execution_count": 14,
   "metadata": {},
   "outputs": [
    {
     "data": {
      "text/html": [
       "<div>\n",
       "<style scoped>\n",
       "    .dataframe tbody tr th:only-of-type {\n",
       "        vertical-align: middle;\n",
       "    }\n",
       "\n",
       "    .dataframe tbody tr th {\n",
       "        vertical-align: top;\n",
       "    }\n",
       "\n",
       "    .dataframe thead th {\n",
       "        text-align: right;\n",
       "    }\n",
       "</style>\n",
       "<table border=\"1\" class=\"dataframe\">\n",
       "  <thead>\n",
       "    <tr style=\"text-align: right;\">\n",
       "      <th></th>\n",
       "      <th>id</th>\n",
       "      <th>homeID</th>\n",
       "      <th>awayID</th>\n",
       "      <th>season</th>\n",
       "      <th>status</th>\n",
       "      <th>roundID</th>\n",
       "      <th>game_week</th>\n",
       "      <th>revised_game_week</th>\n",
       "      <th>homeGoals</th>\n",
       "      <th>awayGoals</th>\n",
       "      <th>...</th>\n",
       "      <th>matches_completed_minimum</th>\n",
       "      <th>over05</th>\n",
       "      <th>over15</th>\n",
       "      <th>over25</th>\n",
       "      <th>over35</th>\n",
       "      <th>over45</th>\n",
       "      <th>over55</th>\n",
       "      <th>btts</th>\n",
       "      <th>homeGoals_timings</th>\n",
       "      <th>awayGoals_timings</th>\n",
       "    </tr>\n",
       "  </thead>\n",
       "  <tbody>\n",
       "    <tr>\n",
       "      <th>6255</th>\n",
       "      <td>6689128</td>\n",
       "      <td>93</td>\n",
       "      <td>218</td>\n",
       "      <td>2023/2024</td>\n",
       "      <td>suspended</td>\n",
       "      <td>100543</td>\n",
       "      <td>18</td>\n",
       "      <td>-1</td>\n",
       "      <td>[]</td>\n",
       "      <td>[]</td>\n",
       "      <td>...</td>\n",
       "      <td>19</td>\n",
       "      <td>False</td>\n",
       "      <td>False</td>\n",
       "      <td>False</td>\n",
       "      <td>False</td>\n",
       "      <td>False</td>\n",
       "      <td>False</td>\n",
       "      <td>False</td>\n",
       "      <td>[]</td>\n",
       "      <td>[]</td>\n",
       "    </tr>\n",
       "  </tbody>\n",
       "</table>\n",
       "<p>1 rows × 215 columns</p>\n",
       "</div>"
      ],
      "text/plain": [
       "           id  homeID  awayID     season     status  roundID  game_week  \\\n",
       "6255  6689128      93     218  2023/2024  suspended   100543         18   \n",
       "\n",
       "      revised_game_week homeGoals awayGoals  ...  matches_completed_minimum  \\\n",
       "6255                 -1        []        []  ...                         19   \n",
       "\n",
       "      over05  over15  over25  over35  over45  over55   btts  \\\n",
       "6255   False   False   False   False   False   False  False   \n",
       "\n",
       "      homeGoals_timings  awayGoals_timings  \n",
       "6255                 []                 []  \n",
       "\n",
       "[1 rows x 215 columns]"
      ]
     },
     "execution_count": 14,
     "metadata": {},
     "output_type": "execute_result"
    }
   ],
   "source": [
    "# check list of suspended matches\n",
    "matches_df[matches_df['status'] == 'suspended' ]"
   ]
  },
  {
   "cell_type": "code",
   "execution_count": 15,
   "metadata": {},
   "outputs": [
    {
     "data": {
      "text/plain": [
       "array(['2023/2024'], dtype=object)"
      ]
     },
     "execution_count": 15,
     "metadata": {},
     "output_type": "execute_result"
    }
   ],
   "source": [
    "# Check seasons from which matches are incomplete\n",
    "matches_df[matches_df['status'] == 'incomplete' ]['season'].unique()"
   ]
  },
  {
   "cell_type": "code",
   "execution_count": 16,
   "metadata": {
    "scrolled": true
   },
   "outputs": [
    {
     "data": {
      "text/plain": [
       "array(['2023/2024'], dtype=object)"
      ]
     },
     "execution_count": 16,
     "metadata": {},
     "output_type": "execute_result"
    }
   ],
   "source": [
    "# Check list of incomplete matches\n",
    "matches_df[matches_df['status'] == 'suspended' ]['season'].unique()"
   ]
  },
  {
   "cell_type": "code",
   "execution_count": 17,
   "metadata": {},
   "outputs": [
    {
     "data": {
      "text/plain": [
       "array([38, 19, 20], dtype=int64)"
      ]
     },
     "execution_count": 17,
     "metadata": {},
     "output_type": "execute_result"
    }
   ],
   "source": [
    "matches_df['matches_completed_minimum'].unique()"
   ]
  },
  {
   "cell_type": "code",
   "execution_count": 18,
   "metadata": {},
   "outputs": [
    {
     "data": {
      "text/plain": [
       "-1        1822\n",
       " 0         378\n",
       " 34977      20\n",
       " 25700      13\n",
       " 2000        8\n",
       "          ... \n",
       " 30654       1\n",
       " 25794       1\n",
       " 48321       1\n",
       " 36031       1\n",
       " 20496       1\n",
       "Name: attendance, Length: 3805, dtype: int64"
      ]
     },
     "execution_count": 18,
     "metadata": {},
     "output_type": "execute_result"
    }
   ],
   "source": [
    "matches_df['attendance'].value_counts()"
   ]
  },
  {
   "cell_type": "markdown",
   "metadata": {},
   "source": [
    "## Data Inspection Notes\n",
    "\n",
    "### Data Types in the Dataset\n",
    "\n",
    "#### Irrelevant columns\n",
    "\n",
    "The dataset exhibits a diverse range of data types, encompassing `object`, `float64`, `int64`, and `bool`. Upon closer examination of columns with the `object` data type, several columns have been identified as having limited relevance to the project's objectives. Consequently, the following `object` type columns are slated for removal, as they contribute minimally to the project:\n",
    "\n",
    "- Stadium_name\n",
    "- Stadium_location\n",
    "- home_url\n",
    "- home_image\n",
    "- home_name\n",
    "- away_url\n",
    "- away_image\n",
    "- away_name\n",
    "- match_url\n",
    "- date_unix\n",
    "\n",
    "\n",
    "### Uninformative Columns\n",
    "\n",
    "Three `int64` type columns, namely `pens_recorded`, `no_home_away` and `revised_game_week`, were identified as having uniform values across all entries, rendering them of little relevance. Consequently, these columns will be dropped from the dataset.\n",
    "\n",
    "### Redundant Columns\n",
    "\n",
    "Upon closer scrutiny of the dataset, it was observed that the columns `homeGoals` and `homeGoals_timings` contained identical information, as did `awayGoals` and `awayGoals_timings`. In the interest of eliminating redundancy and retaining more descriptive columns, it has been decided to remove the `homeGoals` and `awayGoals` columns.\n",
    "\n",
    "\n",
    "### Match Status Column\n",
    "\n",
    "The match status column reveals three distinct values: `complete`, `incomplete`, and `suspended`. Notably, all instances of incomplete and suspended matches are specific to the current season (2023/2024). Consequently, these particular matches are considered irrelevant to the project as they have not been played and can be safely excluded from the dataset. Furthermore, the status column itself becomes obsolete once 'incomplete' and 'suspended' matches are removed and can be dropped from the dataset.\n",
    "\n",
    "### Unique Identifier Columns (Non-feature/target columns)\n",
    "\n",
    "Several columns function as unique identifiers and are unlikely to contribute to predictive power. While these identifiers may be valuable during Exploratory Data Analysis (EDA), they should be dropped during model training. The identified columns are:\n",
    "\n",
    "- id\n",
    "- homeID\n",
    "- awayID\n",
    "- Season\n",
    "- competition_id\n",
    "- roundID\n",
    "- refereeID\n",
    "- coach_a_ID\n",
    "- coach_b_ID\n",
    "\n",
    "\n",
    "### Nested Data\n",
    "\n",
    "Upon inspection, it was observed that two columns, namely `homeGoals_timings` and `awayGoals_timings`, are structured as arrays. These columns provide information on goal timings for the home and away teams, respectively. The data within these arrays is likely to hold valuable predictive power regarding the number of goals scored in the first and second halves of a match. As part of the data cleaning process, it is imperative to flatten these arrays. Furthermore, since the data within the arrays is currently in string format, a conversion to numerical format is necessary to enhance its utility for analysis and modeling.\n",
    "\n",
    "### More irrelevant data\n",
    "Close inspection of the API documenation revealed that the following columns contained metadata (for example whether timing data was stored or not). This columns were found to offer no useful information and thus could be dropped without any implications to the success of the project:\n",
    "\n",
    " - 'attendance',\n",
    " - 'corner_timings_recorded',\n",
    " - 'card_timings_recorded',\n",
    " - 'pens_recorded',\n",
    " - 'goal_timings_recorded',\n",
    " - 'throwins_recorded',\n",
    " - 'freekicks_recorded',\n",
    " - 'goalkicks_recorded',\n",
    " - 'competition_id',\n",
    " - 'matches_completed_minimum\n",
    " \n"
   ]
  },
  {
   "cell_type": "markdown",
   "metadata": {},
   "source": [
    "## Data Cleaning\n",
    "\n",
    "### Removing irrelevant and duplicated columns"
   ]
  },
  {
   "cell_type": "code",
   "execution_count": 19,
   "metadata": {},
   "outputs": [],
   "source": [
    "# remove all entries with incomplete or suspended status\n",
    "matches_df = matches_df[matches_df['status'] == 'complete']"
   ]
  },
  {
   "cell_type": "code",
   "execution_count": 20,
   "metadata": {},
   "outputs": [],
   "source": [
    "# define list of irrelevant columns\n",
    "irrelevant_columns = [\n",
    "    'status',\n",
    "    'stadium_name',\n",
    "    'stadium_location',\n",
    "    'home_url',\n",
    "    'home_image',\n",
    "    'home_name',\n",
    "    'away_url',\n",
    "    'away_image',\n",
    "    'away_name',\n",
    "    'match_url',\n",
    "    'date_unix',\n",
    "    'no_home_away',\n",
    "    'revised_game_week',\n",
    "    'homeGoals',\n",
    "    'awayGoals',\n",
    "    'pens_recorded',\n",
    "    'goalTimingDisabled',\n",
    "  'corner_timings_recorded',\n",
    "  'card_timings_recorded',\n",
    "  'pens_recorded',\n",
    "  'goal_timings_recorded',\n",
    "  'throwins_recorded',\n",
    "  'freekicks_recorded',\n",
    "  'goalkicks_recorded',\n",
    "  'competition_id',\n",
    "  'matches_completed_minimum']\n",
    "\n",
    "# dropping irrevant columns\n",
    "matches_df.drop(columns=irrelevant_columns, inplace=True)"
   ]
  },
  {
   "cell_type": "code",
   "execution_count": 21,
   "metadata": {},
   "outputs": [
    {
     "data": {
      "text/plain": [
       "(6278, 190)"
      ]
     },
     "execution_count": 21,
     "metadata": {},
     "output_type": "execute_result"
    }
   ],
   "source": [
    "# check shape of df after removing irrelevant columns\n",
    "matches_df.shape"
   ]
  },
  {
   "cell_type": "code",
   "execution_count": 22,
   "metadata": {},
   "outputs": [
    {
     "data": {
      "text/html": [
       "<div>\n",
       "<style scoped>\n",
       "    .dataframe tbody tr th:only-of-type {\n",
       "        vertical-align: middle;\n",
       "    }\n",
       "\n",
       "    .dataframe tbody tr th {\n",
       "        vertical-align: top;\n",
       "    }\n",
       "\n",
       "    .dataframe thead th {\n",
       "        text-align: right;\n",
       "    }\n",
       "</style>\n",
       "<table border=\"1\" class=\"dataframe\">\n",
       "  <thead>\n",
       "    <tr style=\"text-align: right;\">\n",
       "      <th></th>\n",
       "      <th>id</th>\n",
       "      <th>homeID</th>\n",
       "      <th>awayID</th>\n",
       "      <th>season</th>\n",
       "      <th>roundID</th>\n",
       "      <th>game_week</th>\n",
       "      <th>homeGoalCount</th>\n",
       "      <th>awayGoalCount</th>\n",
       "      <th>totalGoalCount</th>\n",
       "      <th>team_a_corners</th>\n",
       "      <th>...</th>\n",
       "      <th>total_xg_prematch</th>\n",
       "      <th>over05</th>\n",
       "      <th>over15</th>\n",
       "      <th>over25</th>\n",
       "      <th>over35</th>\n",
       "      <th>over45</th>\n",
       "      <th>over55</th>\n",
       "      <th>btts</th>\n",
       "      <th>homeGoals_timings</th>\n",
       "      <th>awayGoals_timings</th>\n",
       "    </tr>\n",
       "  </thead>\n",
       "  <tbody>\n",
       "    <tr>\n",
       "      <th>0</th>\n",
       "      <td>2155</td>\n",
       "      <td>150</td>\n",
       "      <td>108</td>\n",
       "      <td>2016/2017</td>\n",
       "      <td>19</td>\n",
       "      <td>1</td>\n",
       "      <td>2</td>\n",
       "      <td>1</td>\n",
       "      <td>3</td>\n",
       "      <td>5</td>\n",
       "      <td>...</td>\n",
       "      <td>0.0</td>\n",
       "      <td>True</td>\n",
       "      <td>True</td>\n",
       "      <td>True</td>\n",
       "      <td>False</td>\n",
       "      <td>False</td>\n",
       "      <td>False</td>\n",
       "      <td>True</td>\n",
       "      <td>['45+1', '57']</td>\n",
       "      <td>['47']</td>\n",
       "    </tr>\n",
       "    <tr>\n",
       "      <th>1</th>\n",
       "      <td>2156</td>\n",
       "      <td>145</td>\n",
       "      <td>154</td>\n",
       "      <td>2016/2017</td>\n",
       "      <td>19</td>\n",
       "      <td>1</td>\n",
       "      <td>0</td>\n",
       "      <td>1</td>\n",
       "      <td>1</td>\n",
       "      <td>7</td>\n",
       "      <td>...</td>\n",
       "      <td>0.0</td>\n",
       "      <td>True</td>\n",
       "      <td>False</td>\n",
       "      <td>False</td>\n",
       "      <td>False</td>\n",
       "      <td>False</td>\n",
       "      <td>False</td>\n",
       "      <td>False</td>\n",
       "      <td>[]</td>\n",
       "      <td>['82']</td>\n",
       "    </tr>\n",
       "    <tr>\n",
       "      <th>2</th>\n",
       "      <td>2157</td>\n",
       "      <td>143</td>\n",
       "      <td>142</td>\n",
       "      <td>2016/2017</td>\n",
       "      <td>19</td>\n",
       "      <td>1</td>\n",
       "      <td>0</td>\n",
       "      <td>1</td>\n",
       "      <td>1</td>\n",
       "      <td>3</td>\n",
       "      <td>...</td>\n",
       "      <td>0.0</td>\n",
       "      <td>True</td>\n",
       "      <td>False</td>\n",
       "      <td>False</td>\n",
       "      <td>False</td>\n",
       "      <td>False</td>\n",
       "      <td>False</td>\n",
       "      <td>False</td>\n",
       "      <td>[]</td>\n",
       "      <td>['74']</td>\n",
       "    </tr>\n",
       "    <tr>\n",
       "      <th>3</th>\n",
       "      <td>2158</td>\n",
       "      <td>144</td>\n",
       "      <td>92</td>\n",
       "      <td>2016/2017</td>\n",
       "      <td>19</td>\n",
       "      <td>1</td>\n",
       "      <td>1</td>\n",
       "      <td>1</td>\n",
       "      <td>2</td>\n",
       "      <td>5</td>\n",
       "      <td>...</td>\n",
       "      <td>0.0</td>\n",
       "      <td>True</td>\n",
       "      <td>True</td>\n",
       "      <td>False</td>\n",
       "      <td>False</td>\n",
       "      <td>False</td>\n",
       "      <td>False</td>\n",
       "      <td>True</td>\n",
       "      <td>['5']</td>\n",
       "      <td>['59']</td>\n",
       "    </tr>\n",
       "    <tr>\n",
       "      <th>4</th>\n",
       "      <td>2159</td>\n",
       "      <td>147</td>\n",
       "      <td>141</td>\n",
       "      <td>2016/2017</td>\n",
       "      <td>19</td>\n",
       "      <td>1</td>\n",
       "      <td>1</td>\n",
       "      <td>1</td>\n",
       "      <td>2</td>\n",
       "      <td>9</td>\n",
       "      <td>...</td>\n",
       "      <td>0.0</td>\n",
       "      <td>True</td>\n",
       "      <td>True</td>\n",
       "      <td>False</td>\n",
       "      <td>False</td>\n",
       "      <td>False</td>\n",
       "      <td>False</td>\n",
       "      <td>True</td>\n",
       "      <td>['11']</td>\n",
       "      <td>['67']</td>\n",
       "    </tr>\n",
       "  </tbody>\n",
       "</table>\n",
       "<p>5 rows × 190 columns</p>\n",
       "</div>"
      ],
      "text/plain": [
       "     id  homeID  awayID     season  roundID  game_week  homeGoalCount  \\\n",
       "0  2155     150     108  2016/2017       19          1              2   \n",
       "1  2156     145     154  2016/2017       19          1              0   \n",
       "2  2157     143     142  2016/2017       19          1              0   \n",
       "3  2158     144      92  2016/2017       19          1              1   \n",
       "4  2159     147     141  2016/2017       19          1              1   \n",
       "\n",
       "   awayGoalCount  totalGoalCount  team_a_corners  ...  total_xg_prematch  \\\n",
       "0              1               3               5  ...                0.0   \n",
       "1              1               1               7  ...                0.0   \n",
       "2              1               1               3  ...                0.0   \n",
       "3              1               2               5  ...                0.0   \n",
       "4              1               2               9  ...                0.0   \n",
       "\n",
       "   over05  over15  over25  over35  over45  over55   btts  homeGoals_timings  \\\n",
       "0    True    True    True   False   False   False   True     ['45+1', '57']   \n",
       "1    True   False   False   False   False   False  False                 []   \n",
       "2    True   False   False   False   False   False  False                 []   \n",
       "3    True    True   False   False   False   False   True              ['5']   \n",
       "4    True    True   False   False   False   False   True             ['11']   \n",
       "\n",
       "   awayGoals_timings  \n",
       "0             ['47']  \n",
       "1             ['82']  \n",
       "2             ['74']  \n",
       "3             ['59']  \n",
       "4             ['67']  \n",
       "\n",
       "[5 rows x 190 columns]"
      ]
     },
     "execution_count": 22,
     "metadata": {},
     "output_type": "execute_result"
    }
   ],
   "source": [
    "matches_df.head()"
   ]
  },
  {
   "cell_type": "markdown",
   "metadata": {},
   "source": [
    "### Recoding data "
   ]
  },
  {
   "cell_type": "code",
   "execution_count": 23,
   "metadata": {},
   "outputs": [],
   "source": [
    "matches_df.replace(-1, 0, inplace=True)"
   ]
  },
  {
   "cell_type": "code",
   "execution_count": 24,
   "metadata": {},
   "outputs": [
    {
     "data": {
      "text/plain": [
       "season               object\n",
       "homeGoals_timings    object\n",
       "awayGoals_timings    object\n",
       "dtype: object"
      ]
     },
     "execution_count": 24,
     "metadata": {},
     "output_type": "execute_result"
    }
   ],
   "source": [
    "matches_df.dtypes[matches_df.dtypes == 'object']"
   ]
  },
  {
   "cell_type": "code",
   "execution_count": 25,
   "metadata": {},
   "outputs": [
    {
     "data": {
      "text/plain": [
       "over05    bool\n",
       "over15    bool\n",
       "over25    bool\n",
       "over35    bool\n",
       "over45    bool\n",
       "over55    bool\n",
       "btts      bool\n",
       "dtype: object"
      ]
     },
     "execution_count": 25,
     "metadata": {},
     "output_type": "execute_result"
    }
   ],
   "source": [
    "matches_df.dtypes[matches_df.dtypes == 'bool']"
   ]
  },
  {
   "cell_type": "code",
   "execution_count": 26,
   "metadata": {},
   "outputs": [
    {
     "data": {
      "text/plain": [
       "id                        int64\n",
       "homeID                    int64\n",
       "awayID                    int64\n",
       "roundID                   int64\n",
       "game_week                 int64\n",
       "                          ...  \n",
       "u15_potential             int64\n",
       "u05_potential             int64\n",
       "corners_o85_potential     int64\n",
       "corners_o95_potential     int64\n",
       "corners_o105_potential    int64\n",
       "Length: 99, dtype: object"
      ]
     },
     "execution_count": 26,
     "metadata": {},
     "output_type": "execute_result"
    }
   ],
   "source": [
    "matches_df.dtypes[matches_df.dtypes == 'int64']"
   ]
  },
  {
   "cell_type": "code",
   "execution_count": 27,
   "metadata": {},
   "outputs": [],
   "source": [
    "def winningTeam(row):\n",
    "    homeGoalCount = row['homeGoalCount']\n",
    "    awayGoalCount = row['awayGoalCount']\n",
    "    \n",
    "    if homeGoalCount > awayGoalCount:\n",
    "        return 1 # means home team won\n",
    "    elif awayGoalCount > homeGoalCount:\n",
    "        return 2 # means away team won\n",
    "    else:\n",
    "        return 0 # indicates a draw\n",
    "\n"
   ]
  },
  {
   "cell_type": "code",
   "execution_count": 28,
   "metadata": {
    "scrolled": true
   },
   "outputs": [],
   "source": [
    "# Apply the winningTeam function to each row of the dataframe\n",
    "matches_df['1x2'] = matches_df.apply(lambda row: winningTeam(row), axis=1)"
   ]
  },
  {
   "cell_type": "code",
   "execution_count": 29,
   "metadata": {},
   "outputs": [
    {
     "data": {
      "text/html": [
       "<div>\n",
       "<style scoped>\n",
       "    .dataframe tbody tr th:only-of-type {\n",
       "        vertical-align: middle;\n",
       "    }\n",
       "\n",
       "    .dataframe tbody tr th {\n",
       "        vertical-align: top;\n",
       "    }\n",
       "\n",
       "    .dataframe thead th {\n",
       "        text-align: right;\n",
       "    }\n",
       "</style>\n",
       "<table border=\"1\" class=\"dataframe\">\n",
       "  <thead>\n",
       "    <tr style=\"text-align: right;\">\n",
       "      <th></th>\n",
       "      <th>homeGoalCount</th>\n",
       "      <th>awayGoalCount</th>\n",
       "      <th>1x2</th>\n",
       "    </tr>\n",
       "  </thead>\n",
       "  <tbody>\n",
       "    <tr>\n",
       "      <th>0</th>\n",
       "      <td>2</td>\n",
       "      <td>1</td>\n",
       "      <td>1</td>\n",
       "    </tr>\n",
       "    <tr>\n",
       "      <th>1</th>\n",
       "      <td>0</td>\n",
       "      <td>1</td>\n",
       "      <td>2</td>\n",
       "    </tr>\n",
       "    <tr>\n",
       "      <th>2</th>\n",
       "      <td>0</td>\n",
       "      <td>1</td>\n",
       "      <td>2</td>\n",
       "    </tr>\n",
       "    <tr>\n",
       "      <th>3</th>\n",
       "      <td>1</td>\n",
       "      <td>1</td>\n",
       "      <td>0</td>\n",
       "    </tr>\n",
       "    <tr>\n",
       "      <th>4</th>\n",
       "      <td>1</td>\n",
       "      <td>1</td>\n",
       "      <td>0</td>\n",
       "    </tr>\n",
       "    <tr>\n",
       "      <th>...</th>\n",
       "      <td>...</td>\n",
       "      <td>...</td>\n",
       "      <td>...</td>\n",
       "    </tr>\n",
       "    <tr>\n",
       "      <th>6275</th>\n",
       "      <td>2</td>\n",
       "      <td>0</td>\n",
       "      <td>1</td>\n",
       "    </tr>\n",
       "    <tr>\n",
       "      <th>6276</th>\n",
       "      <td>2</td>\n",
       "      <td>1</td>\n",
       "      <td>1</td>\n",
       "    </tr>\n",
       "    <tr>\n",
       "      <th>6277</th>\n",
       "      <td>3</td>\n",
       "      <td>1</td>\n",
       "      <td>1</td>\n",
       "    </tr>\n",
       "    <tr>\n",
       "      <th>6278</th>\n",
       "      <td>0</td>\n",
       "      <td>0</td>\n",
       "      <td>0</td>\n",
       "    </tr>\n",
       "    <tr>\n",
       "      <th>6279</th>\n",
       "      <td>3</td>\n",
       "      <td>0</td>\n",
       "      <td>1</td>\n",
       "    </tr>\n",
       "  </tbody>\n",
       "</table>\n",
       "<p>6278 rows × 3 columns</p>\n",
       "</div>"
      ],
      "text/plain": [
       "      homeGoalCount  awayGoalCount  1x2\n",
       "0                 2              1    1\n",
       "1                 0              1    2\n",
       "2                 0              1    2\n",
       "3                 1              1    0\n",
       "4                 1              1    0\n",
       "...             ...            ...  ...\n",
       "6275              2              0    1\n",
       "6276              2              1    1\n",
       "6277              3              1    1\n",
       "6278              0              0    0\n",
       "6279              3              0    1\n",
       "\n",
       "[6278 rows x 3 columns]"
      ]
     },
     "execution_count": 29,
     "metadata": {},
     "output_type": "execute_result"
    }
   ],
   "source": [
    "# confirming winning team recoding worked as planned\n",
    "matches_df[['homeGoalCount', 'awayGoalCount', '1x2']]"
   ]
  },
  {
   "cell_type": "code",
   "execution_count": 30,
   "metadata": {},
   "outputs": [
    {
     "data": {
      "text/plain": [
       "0        ['45+1', '57']\n",
       "1                    []\n",
       "2                    []\n",
       "3                 ['5']\n",
       "4                ['11']\n",
       "5                ['58']\n",
       "6           ['4', '87']\n",
       "7                ['69']\n",
       "8    ['31', '64', '75']\n",
       "9          ['47', '89']\n",
       "Name: homeGoals_timings, dtype: object"
      ]
     },
     "execution_count": 30,
     "metadata": {},
     "output_type": "execute_result"
    }
   ],
   "source": [
    "matches_df.homeGoals_timings[:10]"
   ]
  },
  {
   "cell_type": "code",
   "execution_count": 31,
   "metadata": {
    "scrolled": true
   },
   "outputs": [
    {
     "data": {
      "text/plain": [
       "['id',\n",
       " 'homeID',\n",
       " 'awayID',\n",
       " 'season',\n",
       " 'roundID',\n",
       " 'game_week',\n",
       " 'homeGoalCount',\n",
       " 'awayGoalCount',\n",
       " 'totalGoalCount',\n",
       " 'team_a_corners',\n",
       " 'team_b_corners',\n",
       " 'totalCornerCount',\n",
       " 'team_a_offsides',\n",
       " 'team_b_offsides',\n",
       " 'team_a_yellow_cards',\n",
       " 'team_b_yellow_cards',\n",
       " 'team_a_red_cards',\n",
       " 'team_b_red_cards',\n",
       " 'team_a_shotsOnTarget',\n",
       " 'team_b_shotsOnTarget',\n",
       " 'team_a_shotsOffTarget',\n",
       " 'team_b_shotsOffTarget',\n",
       " 'team_a_shots',\n",
       " 'team_b_shots',\n",
       " 'team_a_fouls',\n",
       " 'team_b_fouls',\n",
       " 'team_a_possession',\n",
       " 'team_b_possession',\n",
       " 'refereeID',\n",
       " 'coach_a_ID',\n",
       " 'coach_b_ID',\n",
       " 'team_a_cards_num',\n",
       " 'team_b_cards_num',\n",
       " 'odds_ft_1',\n",
       " 'odds_ft_x',\n",
       " 'odds_ft_2',\n",
       " 'odds_ft_over05',\n",
       " 'odds_ft_over15',\n",
       " 'odds_ft_over25',\n",
       " 'odds_ft_over35',\n",
       " 'odds_ft_over45',\n",
       " 'odds_ft_under05',\n",
       " 'odds_ft_under15',\n",
       " 'odds_ft_under25',\n",
       " 'odds_ft_under35',\n",
       " 'odds_ft_under45',\n",
       " 'odds_btts_yes',\n",
       " 'odds_btts_no',\n",
       " 'odds_team_a_cs_yes',\n",
       " 'odds_team_a_cs_no',\n",
       " 'odds_team_b_cs_yes',\n",
       " 'odds_team_b_cs_no',\n",
       " 'odds_doublechance_1x',\n",
       " 'odds_doublechance_12',\n",
       " 'odds_doublechance_x2',\n",
       " 'odds_1st_half_result_1',\n",
       " 'odds_1st_half_result_x',\n",
       " 'odds_1st_half_result_2',\n",
       " 'odds_2nd_half_result_1',\n",
       " 'odds_2nd_half_result_x',\n",
       " 'odds_2nd_half_result_2',\n",
       " 'odds_dnb_1',\n",
       " 'odds_dnb_2',\n",
       " 'odds_corners_over_75',\n",
       " 'odds_corners_over_85',\n",
       " 'odds_corners_over_95',\n",
       " 'odds_corners_over_105',\n",
       " 'odds_corners_over_115',\n",
       " 'odds_corners_under_75',\n",
       " 'odds_corners_under_85',\n",
       " 'odds_corners_under_95',\n",
       " 'odds_corners_under_105',\n",
       " 'odds_corners_under_115',\n",
       " 'odds_corners_1',\n",
       " 'odds_corners_x',\n",
       " 'odds_corners_2',\n",
       " 'odds_team_to_score_first_1',\n",
       " 'odds_team_to_score_first_x',\n",
       " 'odds_team_to_score_first_2',\n",
       " 'odds_win_to_nil_1',\n",
       " 'odds_win_to_nil_2',\n",
       " 'odds_1st_half_over05',\n",
       " 'odds_1st_half_over15',\n",
       " 'odds_1st_half_over25',\n",
       " 'odds_1st_half_over35',\n",
       " 'odds_1st_half_under05',\n",
       " 'odds_1st_half_under15',\n",
       " 'odds_1st_half_under25',\n",
       " 'odds_1st_half_under35',\n",
       " 'odds_2nd_half_over05',\n",
       " 'odds_2nd_half_over15',\n",
       " 'odds_2nd_half_over25',\n",
       " 'odds_2nd_half_over35',\n",
       " 'odds_2nd_half_under05',\n",
       " 'odds_2nd_half_under15',\n",
       " 'odds_2nd_half_under25',\n",
       " 'odds_2nd_half_under35',\n",
       " 'odds_btts_1st_half_yes',\n",
       " 'odds_btts_1st_half_no',\n",
       " 'odds_btts_2nd_half_yes',\n",
       " 'odds_btts_2nd_half_no',\n",
       " 'overallGoalCount',\n",
       " 'ht_goals_team_a',\n",
       " 'ht_goals_team_b',\n",
       " 'goals_2hg_team_a',\n",
       " 'goals_2hg_team_b',\n",
       " 'GoalCount_2hg',\n",
       " 'HTGoalCount',\n",
       " 'winningTeam',\n",
       " 'btts_potential',\n",
       " 'btts_fhg_potential',\n",
       " 'btts_2hg_potential',\n",
       " 'attendance',\n",
       " 'team_a_fh_corners',\n",
       " 'team_b_fh_corners',\n",
       " 'team_a_2h_corners',\n",
       " 'team_b_2h_corners',\n",
       " 'corner_fh_count',\n",
       " 'corner_2h_count',\n",
       " 'team_a_fh_cards',\n",
       " 'team_b_fh_cards',\n",
       " 'team_a_2h_cards',\n",
       " 'team_b_2h_cards',\n",
       " 'total_fh_cards',\n",
       " 'total_2h_cards',\n",
       " 'attacks_recorded',\n",
       " 'team_a_dangerous_attacks',\n",
       " 'team_b_dangerous_attacks',\n",
       " 'team_a_attacks',\n",
       " 'team_b_attacks',\n",
       " 'team_a_xg',\n",
       " 'team_b_xg',\n",
       " 'total_xg',\n",
       " 'team_a_penalties_won',\n",
       " 'team_b_penalties_won',\n",
       " 'team_a_penalty_goals',\n",
       " 'team_b_penalty_goals',\n",
       " 'team_a_penalty_missed',\n",
       " 'team_b_penalty_missed',\n",
       " 'team_a_0_10_min_goals',\n",
       " 'team_b_0_10_min_goals',\n",
       " 'team_a_corners_0_10_min',\n",
       " 'team_b_corners_0_10_min',\n",
       " 'team_a_cards_0_10_min',\n",
       " 'team_b_cards_0_10_min',\n",
       " 'team_a_throwins',\n",
       " 'team_b_throwins',\n",
       " 'team_a_freekicks',\n",
       " 'team_b_freekicks',\n",
       " 'team_a_goalkicks',\n",
       " 'team_b_goalkicks',\n",
       " 'o45_potential',\n",
       " 'o35_potential',\n",
       " 'o25_potential',\n",
       " 'o15_potential',\n",
       " 'o05_potential',\n",
       " 'o15HT_potential',\n",
       " 'o05HT_potential',\n",
       " 'o05_2H_potential',\n",
       " 'o15_2H_potential',\n",
       " 'corners_potential',\n",
       " 'offsides_potential',\n",
       " 'cards_potential',\n",
       " 'avg_potential',\n",
       " 'home_ppg',\n",
       " 'away_ppg',\n",
       " 'pre_match_home_ppg',\n",
       " 'pre_match_away_ppg',\n",
       " 'pre_match_teamA_overall_ppg',\n",
       " 'pre_match_teamB_overall_ppg',\n",
       " 'u45_potential',\n",
       " 'u35_potential',\n",
       " 'u25_potential',\n",
       " 'u15_potential',\n",
       " 'u05_potential',\n",
       " 'corners_o85_potential',\n",
       " 'corners_o95_potential',\n",
       " 'corners_o105_potential',\n",
       " 'team_a_xg_prematch',\n",
       " 'team_b_xg_prematch',\n",
       " 'total_xg_prematch',\n",
       " 'over05',\n",
       " 'over15',\n",
       " 'over25',\n",
       " 'over35',\n",
       " 'over45',\n",
       " 'over55',\n",
       " 'btts',\n",
       " 'homeGoals_timings',\n",
       " 'awayGoals_timings',\n",
       " '1x2']"
      ]
     },
     "execution_count": 31,
     "metadata": {},
     "output_type": "execute_result"
    }
   ],
   "source": [
    "list_of_columns = list(matches_df.columns)\n",
    "list_of_columns"
   ]
  },
  {
   "cell_type": "code",
   "execution_count": 32,
   "metadata": {},
   "outputs": [
    {
     "data": {
      "text/html": [
       "<div>\n",
       "<style scoped>\n",
       "    .dataframe tbody tr th:only-of-type {\n",
       "        vertical-align: middle;\n",
       "    }\n",
       "\n",
       "    .dataframe tbody tr th {\n",
       "        vertical-align: top;\n",
       "    }\n",
       "\n",
       "    .dataframe thead th {\n",
       "        text-align: right;\n",
       "    }\n",
       "</style>\n",
       "<table border=\"1\" class=\"dataframe\">\n",
       "  <thead>\n",
       "    <tr style=\"text-align: right;\">\n",
       "      <th></th>\n",
       "      <th>winningTeam</th>\n",
       "    </tr>\n",
       "  </thead>\n",
       "  <tbody>\n",
       "    <tr>\n",
       "      <th>0</th>\n",
       "      <td>150</td>\n",
       "    </tr>\n",
       "    <tr>\n",
       "      <th>1</th>\n",
       "      <td>154</td>\n",
       "    </tr>\n",
       "    <tr>\n",
       "      <th>2</th>\n",
       "      <td>142</td>\n",
       "    </tr>\n",
       "    <tr>\n",
       "      <th>3</th>\n",
       "      <td>0</td>\n",
       "    </tr>\n",
       "    <tr>\n",
       "      <th>4</th>\n",
       "      <td>0</td>\n",
       "    </tr>\n",
       "  </tbody>\n",
       "</table>\n",
       "</div>"
      ],
      "text/plain": [
       "   winningTeam\n",
       "0          150\n",
       "1          154\n",
       "2          142\n",
       "3            0\n",
       "4            0"
      ]
     },
     "execution_count": 32,
     "metadata": {},
     "output_type": "execute_result"
    }
   ],
   "source": [
    "matches_df[['winningTeam']].head()"
   ]
  },
  {
   "cell_type": "markdown",
   "metadata": {},
   "source": [
    "# Explaratory Data Analysis\n"
   ]
  },
  {
   "cell_type": "code",
   "execution_count": 33,
   "metadata": {},
   "outputs": [],
   "source": [
    "# temporarily dropping nested data \n",
    "nested_columns = ['homeGoals_timings', 'awayGoals_timings']\n",
    "clean_df = matches_df.drop(columns=nested_columns)"
   ]
  },
  {
   "cell_type": "code",
   "execution_count": 34,
   "metadata": {
    "scrolled": true
   },
   "outputs": [
    {
     "data": {
      "text/plain": [
       "1    0.456356\n",
       "2    0.300892\n",
       "0    0.242752\n",
       "Name: 1x2, dtype: float64"
      ]
     },
     "execution_count": 34,
     "metadata": {},
     "output_type": "execute_result"
    }
   ],
   "source": [
    "# Calculate value counts of the '1x2' column\n",
    "value_counts = clean_df['1x2'].value_counts(normalize=True)\n",
    "\n",
    "value_counts"
   ]
  },
  {
   "cell_type": "code",
   "execution_count": 35,
   "metadata": {},
   "outputs": [],
   "source": [
    "import matplotlib.pyplot as plt\n",
    "import seaborn as sns\n",
    "\n",
    "%matplotlib inline"
   ]
  },
  {
   "cell_type": "code",
   "execution_count": 36,
   "metadata": {},
   "outputs": [
    {
     "data": {
      "image/png": "[encoded data removed]",
      "text/plain": [
       "<Figure size 720x576 with 1 Axes>"
      ]
     },
     "metadata": {
      "needs_background": "light"
     },
     "output_type": "display_data"
    }
   ],
   "source": [
    "fig, axes = plt.subplots(figsize=(10, 8))\n",
    "\n",
    "\n",
    "# Plot the bar chart with explicit x-coordinates\n",
    "bars = axes.bar(x=value_counts.index, height=value_counts, color='skyblue')\n",
    "\n",
    "# Add annotations above each bar\n",
    "for bar in bars:\n",
    "    yval = bar.get_height()\n",
    "    axes.text(bar.get_x() + bar.get_width() / 2, yval + 0.01, round(yval, 2), ha='center', va='bottom')\n",
    "\n",
    "# Customize plot appearance\n",
    "axes.set_title('Distribution of 1x2 Values')\n",
    "axes.set_xlabel('1x2')\n",
    "axes.set_ylabel('Relative Frequency')\n",
    "axes.set_xticks(value_counts.index)\n",
    "axes.set_xticklabels(value_counts.index)\n",
    "axes.grid(axis='y', linestyle='--', alpha=0.7)\n",
    "\n",
    "plt.show()"
   ]
  },
  {
   "cell_type": "markdown",
   "metadata": {},
   "source": [
    "The chart above indicates that 46% of matches are won by the home team, 30% by the away team and approximately 24% ended in draws."
   ]
  },
  {
   "cell_type": "code",
   "execution_count": 37,
   "metadata": {},
   "outputs": [
    {
     "data": {
      "text/plain": [
       "season     1x2\n",
       "2007/2008  1      0.463158\n",
       "           2      0.273684\n",
       "           0      0.263158\n",
       "2008/2009  1      0.455263\n",
       "           2      0.289474\n",
       "           0      0.255263\n",
       "2009/2010  1      0.507895\n",
       "           0      0.252632\n",
       "           2      0.239474\n",
       "2010/2011  1      0.471053\n",
       "           0      0.292105\n",
       "           2      0.236842\n",
       "2011/2012  1      0.450000\n",
       "           2      0.305263\n",
       "           0      0.244737\n",
       "2012/2013  1      0.436842\n",
       "           0      0.284211\n",
       "           2      0.278947\n",
       "2013/2014  1      0.471053\n",
       "           2      0.323684\n",
       "           0      0.205263\n",
       "2014/2015  1      0.452632\n",
       "           2      0.302632\n",
       "           0      0.244737\n",
       "2015/2016  1      0.413158\n",
       "           2      0.305263\n",
       "           0      0.281579\n",
       "2016/2017  1      0.492105\n",
       "           2      0.286842\n",
       "           0      0.221053\n",
       "2017/2018  1      0.455263\n",
       "           2      0.284211\n",
       "           0      0.260526\n",
       "2018/2019  1      0.476316\n",
       "           2      0.336842\n",
       "           0      0.186842\n",
       "2019/2020  1      0.452632\n",
       "           2      0.305263\n",
       "           0      0.242105\n",
       "2020/2021  2      0.402632\n",
       "           1      0.378947\n",
       "           0      0.218421\n",
       "2021/2022  1      0.428947\n",
       "           2      0.339474\n",
       "           0      0.231579\n",
       "2022/2023  1      0.484211\n",
       "           2      0.286842\n",
       "           0      0.228947\n",
       "2023/2024  1      0.479798\n",
       "           2      0.333333\n",
       "           0      0.186869\n",
       "Name: 1x2, dtype: float64"
      ]
     },
     "execution_count": 37,
     "metadata": {},
     "output_type": "execute_result"
    }
   ],
   "source": [
    "# Calculate value counts of the '1x2' column\n",
    "season_winningteam = clean_df.groupby('season')['1x2'].value_counts(normalize=True)\n",
    "\n",
    "season_winningteam"
   ]
  },
  {
   "cell_type": "code",
   "execution_count": 38,
   "metadata": {},
   "outputs": [
    {
     "data": {
      "image/png": "[encoded data removed]",
      "text/plain": [
       "<Figure size 864x576 with 1 Axes>"
      ]
     },
     "metadata": {
      "needs_background": "light"
     },
     "output_type": "display_data"
    }
   ],
   "source": [
    "# Plot stacked bar chart\n",
    "plt.figure(figsize=(12, 8))\n",
    "sns.countplot(data=clean_df, x='season', hue='1x2')\n",
    "\n",
    "# Customize plot appearance\n",
    "plt.title('Stacked Bar Chart of 1x2 Values by Season')\n",
    "plt.xlabel('Season')\n",
    "plt.ylabel('Count')\n",
    "plt.legend(title='1x2', loc='upper right', bbox_to_anchor=(1.25, 1))\n",
    "\n",
    "# Rotate x-axis labels\n",
    "plt.xticks(rotation=90)\n",
    "\n",
    "plt.show()"
   ]
  },
  {
   "cell_type": "markdown",
   "metadata": {},
   "source": [
    "The home team's winning rate noticeably decreases during the 2020/2021 and 2021/2022 seasons, coinciding with the COVID-19 pandemic. Notably, this decline in winning rates aligns with the period when fans were absent from the matches. This suggests a potential impact of the absence of fans on the home team's performance, emphasizing the significance of fan presence in influencing match outcomes."
   ]
  },
  {
   "cell_type": "code",
   "execution_count": 39,
   "metadata": {},
   "outputs": [
    {
     "data": {
      "image/png": "[encoded data removed]",
      "text/plain": [
       "<Figure size 1080x432 with 2 Axes>"
      ]
     },
     "metadata": {
      "needs_background": "light"
     },
     "output_type": "display_data"
    }
   ],
   "source": [
    "fig, axes = plt.subplots(nrows=1, ncols=2, figsize=(15, 6))\n",
    "\n",
    "# Plot the distribution of home goals\n",
    "sns.histplot(clean_df['homeGoalCount'], kde=True, color='skyblue', ax=axes[0])\n",
    "axes[0].set_title('Distribution of Home Goals')\n",
    "axes[0].set_xlabel('Home Goals')\n",
    "axes[0].set_ylabel('Relative Frequency')\n",
    "\n",
    "# Plot the distribution of away goals\n",
    "sns.histplot(clean_df['awayGoalCount'], kde=True, color='salmon', ax=axes[1])\n",
    "axes[1].set_title('Distribution of Away Goals')\n",
    "axes[1].set_xlabel('Away Goals')\n",
    "axes[1].set_ylabel('Relative Frequency')\n",
    "\n",
    "# Adjust layout\n",
    "plt.tight_layout()\n",
    "\n",
    "plt.show()\n"
   ]
  },
  {
   "cell_type": "code",
   "execution_count": 40,
   "metadata": {},
   "outputs": [
    {
     "data": {
      "image/png": "[encoded data removed]",
      "text/plain": [
       "<Figure size 576x432 with 1 Axes>"
      ]
     },
     "metadata": {
      "needs_background": "light"
     },
     "output_type": "display_data"
    }
   ],
   "source": [
    "fig, axes = plt.subplots(figsize=(8, 6))\n",
    "\n",
    "# Plot the distribution of home goals\n",
    "sns.histplot(clean_df['totalGoalCount'], kde=True, color='skyblue', ax=axes)\n",
    "axes.set_title('Distribution of Total Goals')\n",
    "axes.set_xlabel('Total Goals')\n",
    "axes.set_ylabel('Relative Frequency')\n",
    "\n",
    "\n",
    "\n",
    "# Adjust layout\n",
    "plt.tight_layout()\n",
    "\n",
    "plt.show()\n"
   ]
  },
  {
   "cell_type": "code",
   "execution_count": 41,
   "metadata": {},
   "outputs": [
    {
     "data": {
      "text/html": [
       "<div>\n",
       "<style scoped>\n",
       "    .dataframe tbody tr th:only-of-type {\n",
       "        vertical-align: middle;\n",
       "    }\n",
       "\n",
       "    .dataframe tbody tr th {\n",
       "        vertical-align: top;\n",
       "    }\n",
       "\n",
       "    .dataframe thead th {\n",
       "        text-align: right;\n",
       "    }\n",
       "</style>\n",
       "<table border=\"1\" class=\"dataframe\">\n",
       "  <thead>\n",
       "    <tr style=\"text-align: right;\">\n",
       "      <th></th>\n",
       "      <th>id</th>\n",
       "      <th>homeID</th>\n",
       "      <th>awayID</th>\n",
       "      <th>roundID</th>\n",
       "      <th>game_week</th>\n",
       "      <th>homeGoalCount</th>\n",
       "      <th>awayGoalCount</th>\n",
       "      <th>totalGoalCount</th>\n",
       "      <th>team_a_corners</th>\n",
       "      <th>team_b_corners</th>\n",
       "      <th>...</th>\n",
       "      <th>team_b_xg_prematch</th>\n",
       "      <th>total_xg_prematch</th>\n",
       "      <th>over05</th>\n",
       "      <th>over15</th>\n",
       "      <th>over25</th>\n",
       "      <th>over35</th>\n",
       "      <th>over45</th>\n",
       "      <th>over55</th>\n",
       "      <th>btts</th>\n",
       "      <th>1x2</th>\n",
       "    </tr>\n",
       "  </thead>\n",
       "  <tbody>\n",
       "    <tr>\n",
       "      <th>id</th>\n",
       "      <td>1.000000</td>\n",
       "      <td>0.114674</td>\n",
       "      <td>0.110158</td>\n",
       "      <td>0.743025</td>\n",
       "      <td>-0.100665</td>\n",
       "      <td>0.027071</td>\n",
       "      <td>0.030116</td>\n",
       "      <td>0.042374</td>\n",
       "      <td>0.017234</td>\n",
       "      <td>0.008043</td>\n",
       "      <td>...</td>\n",
       "      <td>0.302460</td>\n",
       "      <td>0.305991</td>\n",
       "      <td>0.037929</td>\n",
       "      <td>0.034169</td>\n",
       "      <td>0.031407</td>\n",
       "      <td>0.027556</td>\n",
       "      <td>0.030560</td>\n",
       "      <td>0.017332</td>\n",
       "      <td>0.027663</td>\n",
       "      <td>0.023084</td>\n",
       "    </tr>\n",
       "    <tr>\n",
       "      <th>homeID</th>\n",
       "      <td>0.114674</td>\n",
       "      <td>1.000000</td>\n",
       "      <td>0.000525</td>\n",
       "      <td>0.175209</td>\n",
       "      <td>-0.062106</td>\n",
       "      <td>-0.182130</td>\n",
       "      <td>0.110156</td>\n",
       "      <td>-0.066563</td>\n",
       "      <td>-0.189580</td>\n",
       "      <td>-0.070073</td>\n",
       "      <td>...</td>\n",
       "      <td>-0.029712</td>\n",
       "      <td>-0.064023</td>\n",
       "      <td>-0.031421</td>\n",
       "      <td>-0.044324</td>\n",
       "      <td>-0.058783</td>\n",
       "      <td>-0.052964</td>\n",
       "      <td>-0.040561</td>\n",
       "      <td>-0.037453</td>\n",
       "      <td>0.008229</td>\n",
       "      <td>0.048805</td>\n",
       "    </tr>\n",
       "    <tr>\n",
       "      <th>awayID</th>\n",
       "      <td>0.110158</td>\n",
       "      <td>0.000525</td>\n",
       "      <td>1.000000</td>\n",
       "      <td>0.173455</td>\n",
       "      <td>-0.060400</td>\n",
       "      <td>0.108253</td>\n",
       "      <td>-0.164936</td>\n",
       "      <td>-0.029929</td>\n",
       "      <td>-0.057021</td>\n",
       "      <td>-0.180747</td>\n",
       "      <td>...</td>\n",
       "      <td>-0.082867</td>\n",
       "      <td>-0.058039</td>\n",
       "      <td>-0.007497</td>\n",
       "      <td>-0.008228</td>\n",
       "      <td>-0.027117</td>\n",
       "      <td>-0.024732</td>\n",
       "      <td>-0.017513</td>\n",
       "      <td>-0.036224</td>\n",
       "      <td>-0.034006</td>\n",
       "      <td>-0.087406</td>\n",
       "    </tr>\n",
       "    <tr>\n",
       "      <th>roundID</th>\n",
       "      <td>0.743025</td>\n",
       "      <td>0.175209</td>\n",
       "      <td>0.173455</td>\n",
       "      <td>1.000000</td>\n",
       "      <td>-0.151840</td>\n",
       "      <td>0.011857</td>\n",
       "      <td>0.015962</td>\n",
       "      <td>0.020496</td>\n",
       "      <td>-0.276526</td>\n",
       "      <td>-0.250405</td>\n",
       "      <td>...</td>\n",
       "      <td>0.214574</td>\n",
       "      <td>0.212866</td>\n",
       "      <td>0.024960</td>\n",
       "      <td>0.023742</td>\n",
       "      <td>0.006612</td>\n",
       "      <td>0.002089</td>\n",
       "      <td>0.015383</td>\n",
       "      <td>0.015445</td>\n",
       "      <td>0.011967</td>\n",
       "      <td>0.006429</td>\n",
       "    </tr>\n",
       "    <tr>\n",
       "      <th>game_week</th>\n",
       "      <td>-0.100665</td>\n",
       "      <td>-0.062106</td>\n",
       "      <td>-0.060400</td>\n",
       "      <td>-0.151840</td>\n",
       "      <td>1.000000</td>\n",
       "      <td>0.021556</td>\n",
       "      <td>0.005371</td>\n",
       "      <td>0.020740</td>\n",
       "      <td>0.204210</td>\n",
       "      <td>0.198017</td>\n",
       "      <td>...</td>\n",
       "      <td>0.221812</td>\n",
       "      <td>0.228289</td>\n",
       "      <td>0.021560</td>\n",
       "      <td>0.016367</td>\n",
       "      <td>0.022536</td>\n",
       "      <td>0.012525</td>\n",
       "      <td>0.021912</td>\n",
       "      <td>0.002465</td>\n",
       "      <td>-0.005894</td>\n",
       "      <td>0.018015</td>\n",
       "    </tr>\n",
       "    <tr>\n",
       "      <th>...</th>\n",
       "      <td>...</td>\n",
       "      <td>...</td>\n",
       "      <td>...</td>\n",
       "      <td>...</td>\n",
       "      <td>...</td>\n",
       "      <td>...</td>\n",
       "      <td>...</td>\n",
       "      <td>...</td>\n",
       "      <td>...</td>\n",
       "      <td>...</td>\n",
       "      <td>...</td>\n",
       "      <td>...</td>\n",
       "      <td>...</td>\n",
       "      <td>...</td>\n",
       "      <td>...</td>\n",
       "      <td>...</td>\n",
       "      <td>...</td>\n",
       "      <td>...</td>\n",
       "      <td>...</td>\n",
       "      <td>...</td>\n",
       "      <td>...</td>\n",
       "    </tr>\n",
       "    <tr>\n",
       "      <th>over35</th>\n",
       "      <td>0.027556</td>\n",
       "      <td>-0.052964</td>\n",
       "      <td>-0.024732</td>\n",
       "      <td>0.002089</td>\n",
       "      <td>0.012525</td>\n",
       "      <td>0.568834</td>\n",
       "      <td>0.499709</td>\n",
       "      <td>0.797401</td>\n",
       "      <td>0.004718</td>\n",
       "      <td>-0.001988</td>\n",
       "      <td>...</td>\n",
       "      <td>0.020882</td>\n",
       "      <td>0.025478</td>\n",
       "      <td>0.183835</td>\n",
       "      <td>0.370442</td>\n",
       "      <td>0.626384</td>\n",
       "      <td>1.000000</td>\n",
       "      <td>0.619700</td>\n",
       "      <td>0.379574</td>\n",
       "      <td>0.426885</td>\n",
       "      <td>0.029096</td>\n",
       "    </tr>\n",
       "    <tr>\n",
       "      <th>over45</th>\n",
       "      <td>0.030560</td>\n",
       "      <td>-0.040561</td>\n",
       "      <td>-0.017513</td>\n",
       "      <td>0.015383</td>\n",
       "      <td>0.021912</td>\n",
       "      <td>0.507680</td>\n",
       "      <td>0.441685</td>\n",
       "      <td>0.708669</td>\n",
       "      <td>0.010271</td>\n",
       "      <td>-0.012244</td>\n",
       "      <td>...</td>\n",
       "      <td>0.023241</td>\n",
       "      <td>0.027997</td>\n",
       "      <td>0.113922</td>\n",
       "      <td>0.229563</td>\n",
       "      <td>0.388170</td>\n",
       "      <td>0.619700</td>\n",
       "      <td>1.000000</td>\n",
       "      <td>0.612513</td>\n",
       "      <td>0.290663</td>\n",
       "      <td>0.120966</td>\n",
       "    </tr>\n",
       "    <tr>\n",
       "      <th>over55</th>\n",
       "      <td>0.017332</td>\n",
       "      <td>-0.037453</td>\n",
       "      <td>-0.036224</td>\n",
       "      <td>0.015445</td>\n",
       "      <td>0.002465</td>\n",
       "      <td>0.428671</td>\n",
       "      <td>0.343755</td>\n",
       "      <td>0.577986</td>\n",
       "      <td>0.002490</td>\n",
       "      <td>-0.019636</td>\n",
       "      <td>...</td>\n",
       "      <td>0.002991</td>\n",
       "      <td>0.005872</td>\n",
       "      <td>0.069779</td>\n",
       "      <td>0.140610</td>\n",
       "      <td>0.237759</td>\n",
       "      <td>0.379574</td>\n",
       "      <td>0.612513</td>\n",
       "      <td>1.000000</td>\n",
       "      <td>0.194573</td>\n",
       "      <td>0.001648</td>\n",
       "    </tr>\n",
       "    <tr>\n",
       "      <th>btts</th>\n",
       "      <td>0.027663</td>\n",
       "      <td>0.008229</td>\n",
       "      <td>-0.034006</td>\n",
       "      <td>0.011967</td>\n",
       "      <td>-0.005894</td>\n",
       "      <td>0.312675</td>\n",
       "      <td>0.470998</td>\n",
       "      <td>0.575477</td>\n",
       "      <td>-0.011668</td>\n",
       "      <td>0.016733</td>\n",
       "      <td>...</td>\n",
       "      <td>0.007074</td>\n",
       "      <td>0.003889</td>\n",
       "      <td>0.286458</td>\n",
       "      <td>0.577236</td>\n",
       "      <td>0.548032</td>\n",
       "      <td>0.426885</td>\n",
       "      <td>0.290663</td>\n",
       "      <td>0.194573</td>\n",
       "      <td>1.000000</td>\n",
       "      <td>-0.154372</td>\n",
       "    </tr>\n",
       "    <tr>\n",
       "      <th>1x2</th>\n",
       "      <td>0.023084</td>\n",
       "      <td>0.048805</td>\n",
       "      <td>-0.087406</td>\n",
       "      <td>0.006429</td>\n",
       "      <td>0.018015</td>\n",
       "      <td>-0.165803</td>\n",
       "      <td>0.451671</td>\n",
       "      <td>0.184913</td>\n",
       "      <td>-0.000837</td>\n",
       "      <td>0.056985</td>\n",
       "      <td>...</td>\n",
       "      <td>0.067877</td>\n",
       "      <td>0.040167</td>\n",
       "      <td>0.404317</td>\n",
       "      <td>0.054371</td>\n",
       "      <td>0.245758</td>\n",
       "      <td>0.029096</td>\n",
       "      <td>0.120966</td>\n",
       "      <td>0.001648</td>\n",
       "      <td>-0.154372</td>\n",
       "      <td>1.000000</td>\n",
       "    </tr>\n",
       "  </tbody>\n",
       "</table>\n",
       "<p>188 rows × 188 columns</p>\n",
       "</div>"
      ],
      "text/plain": [
       "                 id    homeID    awayID   roundID  game_week  homeGoalCount  \\\n",
       "id         1.000000  0.114674  0.110158  0.743025  -0.100665       0.027071   \n",
       "homeID     0.114674  1.000000  0.000525  0.175209  -0.062106      -0.182130   \n",
       "awayID     0.110158  0.000525  1.000000  0.173455  -0.060400       0.108253   \n",
       "roundID    0.743025  0.175209  0.173455  1.000000  -0.151840       0.011857   \n",
       "game_week -0.100665 -0.062106 -0.060400 -0.151840   1.000000       0.021556   \n",
       "...             ...       ...       ...       ...        ...            ...   \n",
       "over35     0.027556 -0.052964 -0.024732  0.002089   0.012525       0.568834   \n",
       "over45     0.030560 -0.040561 -0.017513  0.015383   0.021912       0.507680   \n",
       "over55     0.017332 -0.037453 -0.036224  0.015445   0.002465       0.428671   \n",
       "btts       0.027663  0.008229 -0.034006  0.011967  -0.005894       0.312675   \n",
       "1x2        0.023084  0.048805 -0.087406  0.006429   0.018015      -0.165803   \n",
       "\n",
       "           awayGoalCount  totalGoalCount  team_a_corners  team_b_corners  ...  \\\n",
       "id              0.030116        0.042374        0.017234        0.008043  ...   \n",
       "homeID          0.110156       -0.066563       -0.189580       -0.070073  ...   \n",
       "awayID         -0.164936       -0.029929       -0.057021       -0.180747  ...   \n",
       "roundID         0.015962        0.020496       -0.276526       -0.250405  ...   \n",
       "game_week       0.005371        0.020740        0.204210        0.198017  ...   \n",
       "...                  ...             ...             ...             ...  ...   \n",
       "over35          0.499709        0.797401        0.004718       -0.001988  ...   \n",
       "over45          0.441685        0.708669        0.010271       -0.012244  ...   \n",
       "over55          0.343755        0.577986        0.002490       -0.019636  ...   \n",
       "btts            0.470998        0.575477       -0.011668        0.016733  ...   \n",
       "1x2             0.451671        0.184913       -0.000837        0.056985  ...   \n",
       "\n",
       "           team_b_xg_prematch  total_xg_prematch    over05    over15  \\\n",
       "id                   0.302460           0.305991  0.037929  0.034169   \n",
       "homeID              -0.029712          -0.064023 -0.031421 -0.044324   \n",
       "awayID              -0.082867          -0.058039 -0.007497 -0.008228   \n",
       "roundID              0.214574           0.212866  0.024960  0.023742   \n",
       "game_week            0.221812           0.228289  0.021560  0.016367   \n",
       "...                       ...                ...       ...       ...   \n",
       "over35               0.020882           0.025478  0.183835  0.370442   \n",
       "over45               0.023241           0.027997  0.113922  0.229563   \n",
       "over55               0.002991           0.005872  0.069779  0.140610   \n",
       "btts                 0.007074           0.003889  0.286458  0.577236   \n",
       "1x2                  0.067877           0.040167  0.404317  0.054371   \n",
       "\n",
       "             over25    over35    over45    over55      btts       1x2  \n",
       "id         0.031407  0.027556  0.030560  0.017332  0.027663  0.023084  \n",
       "homeID    -0.058783 -0.052964 -0.040561 -0.037453  0.008229  0.048805  \n",
       "awayID    -0.027117 -0.024732 -0.017513 -0.036224 -0.034006 -0.087406  \n",
       "roundID    0.006612  0.002089  0.015383  0.015445  0.011967  0.006429  \n",
       "game_week  0.022536  0.012525  0.021912  0.002465 -0.005894  0.018015  \n",
       "...             ...       ...       ...       ...       ...       ...  \n",
       "over35     0.626384  1.000000  0.619700  0.379574  0.426885  0.029096  \n",
       "over45     0.388170  0.619700  1.000000  0.612513  0.290663  0.120966  \n",
       "over55     0.237759  0.379574  0.612513  1.000000  0.194573  0.001648  \n",
       "btts       0.548032  0.426885  0.290663  0.194573  1.000000 -0.154372  \n",
       "1x2        0.245758  0.029096  0.120966  0.001648 -0.154372  1.000000  \n",
       "\n",
       "[188 rows x 188 columns]"
      ]
     },
     "execution_count": 41,
     "metadata": {},
     "output_type": "execute_result"
    }
   ],
   "source": [
    "clean_df.corr()"
   ]
  },
  {
   "cell_type": "code",
   "execution_count": 42,
   "metadata": {},
   "outputs": [],
   "source": [
    "# top match performance Indicators\n",
    "match_performance_indicators = ['homeGoalCount',\n",
    "                                'awayGoalCount',\n",
    "                                'totalGoalCount',\n",
    "                                'team_a_corners',\n",
    "                                'team_b_corners',\n",
    "                                'totalCornerCount',\n",
    "                                'team_a_offsides',\n",
    "                                'team_b_offsides',\n",
    "                                'team_a_yellow_cards',\n",
    "                                'team_b_yellow_cards',\n",
    "                                'team_a_red_cards',\n",
    "                                'team_b_red_cards',\n",
    "                                'team_a_shotsOnTarget',\n",
    "                                'team_b_shotsOnTarget',\n",
    "                                'team_a_shotsOffTarget',\n",
    "                                'team_b_shotsOffTarget',\n",
    "                                'team_a_shots',\n",
    "                                'team_b_shots',\n",
    "                                'team_a_fouls',\n",
    "                                'team_b_fouls',\n",
    "                                'team_a_possession',\n",
    "                                'team_b_possession',\n",
    "                                'team_a_cards_num',\n",
    "                                'team_b_cards_num', \n",
    "                                '1x2']"
   ]
  },
  {
   "cell_type": "code",
   "execution_count": 43,
   "metadata": {
    "scrolled": false
   },
   "outputs": [
    {
     "data": {
      "image/png": "[encoded data removed]",
      "text/plain": [
       "<Figure size 1080x576 with 2 Axes>"
      ]
     },
     "metadata": {
      "needs_background": "light"
     },
     "output_type": "display_data"
    }
   ],
   "source": [
    "fig, axes = plt.subplots(figsize=(15, 8))\n",
    "\n",
    "# Plot heatmap of correlation \n",
    "sns.heatmap(clean_df[match_performance_indicators].corr())\n",
    "\n",
    "\n",
    "# Adjust layout\n",
    "plt.tight_layout()\n",
    "\n",
    "plt.show()\n"
   ]
  },
  {
   "cell_type": "code",
   "execution_count": 44,
   "metadata": {},
   "outputs": [
    {
     "data": {
      "text/html": [
       "<div>\n",
       "<style scoped>\n",
       "    .dataframe tbody tr th:only-of-type {\n",
       "        vertical-align: middle;\n",
       "    }\n",
       "\n",
       "    .dataframe tbody tr th {\n",
       "        vertical-align: top;\n",
       "    }\n",
       "\n",
       "    .dataframe thead th {\n",
       "        text-align: right;\n",
       "    }\n",
       "</style>\n",
       "<table border=\"1\" class=\"dataframe\">\n",
       "  <thead>\n",
       "    <tr style=\"text-align: right;\">\n",
       "      <th></th>\n",
       "      <th>attendance</th>\n",
       "    </tr>\n",
       "  </thead>\n",
       "  <tbody>\n",
       "    <tr>\n",
       "      <th>0</th>\n",
       "      <td>0</td>\n",
       "    </tr>\n",
       "    <tr>\n",
       "      <th>1</th>\n",
       "      <td>0</td>\n",
       "    </tr>\n",
       "    <tr>\n",
       "      <th>2</th>\n",
       "      <td>0</td>\n",
       "    </tr>\n",
       "    <tr>\n",
       "      <th>3</th>\n",
       "      <td>0</td>\n",
       "    </tr>\n",
       "    <tr>\n",
       "      <th>4</th>\n",
       "      <td>0</td>\n",
       "    </tr>\n",
       "  </tbody>\n",
       "</table>\n",
       "</div>"
      ],
      "text/plain": [
       "   attendance\n",
       "0           0\n",
       "1           0\n",
       "2           0\n",
       "3           0\n",
       "4           0"
      ]
     },
     "execution_count": 44,
     "metadata": {},
     "output_type": "execute_result"
    }
   ],
   "source": [
    "clean_df[['attendance']].head()"
   ]
  },
  {
   "cell_type": "code",
   "execution_count": 45,
   "metadata": {},
   "outputs": [
    {
     "data": {
      "text/plain": [
       "attendance\n",
       "0             2018\n",
       "34977           20\n",
       "25700           13\n",
       "2000             8\n",
       "35005            7\n",
       "              ... \n",
       "39757            1\n",
       "39748            1\n",
       "39725            1\n",
       "39673            1\n",
       "32148            1\n",
       "Length: 3804, dtype: int64"
      ]
     },
     "execution_count": 45,
     "metadata": {},
     "output_type": "execute_result"
    }
   ],
   "source": [
    "clean_df[['attendance']].value_counts()"
   ]
  },
  {
   "cell_type": "code",
   "execution_count": 46,
   "metadata": {},
   "outputs": [
    {
     "data": {
      "image/png": "[encoded data removed]",
      "text/plain": [
       "<Figure size 576x432 with 1 Axes>"
      ]
     },
     "metadata": {
      "needs_background": "light"
     },
     "output_type": "display_data"
    }
   ],
   "source": [
    "fig, axes = plt.subplots(figsize=(8, 6))\n",
    "\n",
    "# Plot the distribution of attendance\n",
    "sns.histplot(clean_df['attendance'], kde=True, color='skyblue', ax=axes)\n",
    "axes.set_title('Distribution of Attendace')\n",
    "axes.set_xlabel('Attendance')\n",
    "axes.set_ylabel('Relative Frequency')\n",
    "\n",
    "\n",
    "# Adjust layout\n",
    "plt.tight_layout()\n",
    "\n",
    "plt.show()\n"
   ]
  },
  {
   "cell_type": "code",
   "execution_count": 47,
   "metadata": {},
   "outputs": [
    {
     "data": {
      "text/plain": [
       "season\n",
       "2007/2008           0\n",
       "2008/2009           0\n",
       "2009/2010    12975581\n",
       "2010/2011    13405962\n",
       "2011/2012    13147850\n",
       "2012/2013    13653498\n",
       "2013/2014    13345297\n",
       "2014/2015    13174306\n",
       "2015/2016    13258392\n",
       "2016/2017    13078622\n",
       "2017/2018    14560349\n",
       "2018/2019    14511002\n",
       "2019/2020    11322096\n",
       "2020/2021       50692\n",
       "2021/2022     4847368\n",
       "2022/2023     2300396\n",
       "2023/2024     1833948\n",
       "Name: attendance, dtype: int64"
      ]
     },
     "execution_count": 47,
     "metadata": {},
     "output_type": "execute_result"
    }
   ],
   "source": [
    "# Calculate value counts of the '1x2' column\n",
    "season_attendance = clean_df.groupby('season')['attendance'].sum()\n",
    "\n",
    "season_attendance"
   ]
  },
  {
   "cell_type": "code",
   "execution_count": 48,
   "metadata": {},
   "outputs": [
    {
     "data": {
      "text/plain": [
       "<module 'seaborn' from 'C:\\\\Users\\\\user\\\\anaconda3\\\\envs\\\\learn-env\\\\lib\\\\site-packages\\\\seaborn\\\\__init__.py'>"
      ]
     },
     "execution_count": 48,
     "metadata": {},
     "output_type": "execute_result"
    },
    {
     "data": {
      "text/plain": [
       "<Figure size 864x576 with 0 Axes>"
      ]
     },
     "metadata": {},
     "output_type": "display_data"
    }
   ],
   "source": [
    "plt.figure(figsize=(12, 8))\n",
    "sns"
   ]
  },
  {
   "cell_type": "code",
   "execution_count": null,
   "metadata": {},
   "outputs": [],
   "source": []
  },
  {
   "cell_type": "code",
   "execution_count": 49,
   "metadata": {},
   "outputs": [
    {
     "data": {
      "text/plain": [
       "season\n",
       "2007/2008           0\n",
       "2008/2009           0\n",
       "2009/2010    12975581\n",
       "2010/2011    13405962\n",
       "2011/2012    13147850\n",
       "2012/2013    13653498\n",
       "2013/2014    13345297\n",
       "2014/2015    13174306\n",
       "2015/2016    13258392\n",
       "2016/2017    13078622\n",
       "2017/2018    14560349\n",
       "2018/2019    14511002\n",
       "2019/2020    11322096\n",
       "2020/2021       50692\n",
       "2021/2022     4847368\n",
       "2022/2023     2300396\n",
       "2023/2024     1833948\n",
       "Name: attendance, dtype: int64"
      ]
     },
     "execution_count": 49,
     "metadata": {},
     "output_type": "execute_result"
    }
   ],
   "source": [
    "season_attendance = clean_df.groupby('season')['attendance'].sum()\n",
    "\n",
    "season_attendance"
   ]
  },
  {
   "cell_type": "code",
   "execution_count": 50,
   "metadata": {},
   "outputs": [
    {
     "data": {
      "text/plain": [
       "Index(['2007/2008', '2008/2009', '2009/2010', '2010/2011', '2011/2012',\n",
       "       '2012/2013', '2013/2014', '2014/2015', '2015/2016', '2016/2017',\n",
       "       '2017/2018', '2018/2019', '2019/2020', '2020/2021', '2021/2022',\n",
       "       '2022/2023', '2023/2024'],\n",
       "      dtype='object', name='season')"
      ]
     },
     "execution_count": 50,
     "metadata": {},
     "output_type": "execute_result"
    }
   ],
   "source": [
    "season_attendance.index"
   ]
  },
  {
   "cell_type": "code",
   "execution_count": 51,
   "metadata": {
    "scrolled": false
   },
   "outputs": [
    {
     "data": {
      "image/png": "[encoded data removed]",
      "text/plain": [
       "<Figure size 576x432 with 1 Axes>"
      ]
     },
     "metadata": {
      "needs_background": "light"
     },
     "output_type": "display_data"
    }
   ],
   "source": [
    "fig, axes = plt.subplots(figsize=(8, 6))\n",
    "\n",
    "# Plot the bar chart with explicit x-coordinates\n",
    "bars = axes.bar(x=season_attendance.index, height=season_attendance, color='skyblue')\n",
    "\n",
    "\n",
    "# Customize plot appearance\n",
    "axes.set_title('Distribution of Attendance')\n",
    "axes.set_xlabel('Season')\n",
    "axes.set_ylabel('Relative Frequency')\n",
    "axes.set_xticks(season_attendance.index)\n",
    "axes.set_xticklabels(season_attendance.index)\n",
    "\n",
    "# Rotate x-axis labels\n",
    "plt.xticks(rotation=90)\n",
    "\n",
    "\n",
    "plt.show()"
   ]
  },
  {
   "cell_type": "code",
   "execution_count": null,
   "metadata": {},
   "outputs": [],
   "source": [
    "'GoalCount_2hg',\n",
    " 'HTGoalCount',"
   ]
  },
  {
   "cell_type": "code",
   "execution_count": null,
   "metadata": {},
   "outputs": [],
   "source": []
  }
 ],
 "metadata": {
  "kernelspec": {
   "display_name": "Python (learn-env)",
   "language": "python",
   "name": "learn-env"
  },
  "language_info": {
   "codemirror_mode": {
    "name": "ipython",
    "version": 3
   },
   "file_extension": ".py",
   "mimetype": "text/x-python",
   "name": "python",
   "nbconvert_exporter": "python",
   "pygments_lexer": "ipython3",
   "version": "3.8.5"
  }
 },
 "nbformat": 4,
 "nbformat_minor": 4
}
